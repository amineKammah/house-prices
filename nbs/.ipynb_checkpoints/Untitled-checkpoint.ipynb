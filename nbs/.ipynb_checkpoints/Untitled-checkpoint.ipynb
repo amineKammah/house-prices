{
 "cells": [
  {
   "cell_type": "code",
   "execution_count": 1,
   "metadata": {},
   "outputs": [],
   "source": [
    "import pandas as pd\n",
    "import seaborn as sns\n",
    "import numpy as np\n",
    "import matplotlib.pyplot as plt\n",
    "import sklearn as sk\n",
    "from sklearn.model_selection import train_test_split\n",
    "import category_encoders as ce\n",
    "from catboost import CatBoostRegressor, Pool\n",
    "from sklearn.ensemble import RandomForestRegressor\n",
    "from sklearn.metrics import mean_squared_error\n",
    "from sklearn.feature_selection import SelectKBest\n",
    "from sklearn.model_selection import cross_val_score\n",
    "from sklearn.model_selection import ShuffleSplit\n",
    "from sklearn.pipeline import make_pipeline\n",
    "\n",
    "from xgboost.sklearn import XGBRegressor\n",
    "from sklearn.model_selection import GridSearchCV"
   ]
  },
  {
   "cell_type": "code",
   "execution_count": 2,
   "metadata": {},
   "outputs": [],
   "source": [
    "train_raw, test_raw = pd.read_csv('~/Downloads/house-pricing/train.csv'), pd.read_csv('~/Downloads/house-pricing/test.csv')"
   ]
  },
  {
   "cell_type": "code",
   "execution_count": 3,
   "metadata": {},
   "outputs": [
    {
     "data": {
      "text/plain": [
       "((1460, 81), (1459, 80))"
      ]
     },
     "execution_count": 3,
     "metadata": {},
     "output_type": "execute_result"
    }
   ],
   "source": [
    "train_raw.shape, test_raw.shape"
   ]
  },
  {
   "cell_type": "code",
   "execution_count": 4,
   "metadata": {},
   "outputs": [],
   "source": [
    "categorical = ['MSSubClass', 'MSZoning', 'Street', 'Alley', 'LotShape', 'LandContour', 'Utilities', 'LotConfig', 'LandSlope', 'Neighborhood', 'Condition1', 'Condition2',\n",
    "              'BldgType', 'HouseStyle', 'RoofStyle', 'RoofMatl', 'Exterior1st', 'Exterior2nd', 'MasVnrType', 'ExterQual', 'ExterCond', 'Foundation',\n",
    "              'BsmtQual', 'BsmtCond', 'BsmtExposure', 'BsmtFinType1', 'BsmtFinType2', 'Heating', 'HeatingQC', 'Electrical', 'KitchenQual', 'Functional', 'FireplaceQu',\n",
    "              'GarageType', 'GarageFinish', 'GarageQual', 'GarageCond', 'PavedDrive', 'Fence', 'MiscFeature', 'SaleType', 'SaleCondition']\n",
    "# Street, Utilities, Condition2, RoofMatl: bad repartition\n",
    "# Alley, PoolQC: most are missing\n",
    "\n",
    "numerical = ['LotFrontage', 'LotArea', 'MasVnrArea', 'BsmtFinSF1', 'BsmtFinSF2', 'BsmtUnfSF', 'TotalBsmtSF', '1stFlrSF', '2ndFlrSF', 'LowQualFinSF', 'GrLivArea',\n",
    "             'BsmtFullBath', 'BsmtHalfBath', 'FullBath', 'HalfBath', 'BedroomAbvGr', 'KitchenAbvGr', 'TotRmsAbvGrd', 'Fireplaces', 'GarageCars', 'GarageArea', 'WoodDeckSF',\n",
    "             'OpenPorchSF', 'EnclosedPorch', '3SsnPorch', 'ScreenPorch', 'MiscVal', 'OverallCond', 'OverallQual']\n",
    "# MasVnrArea, BsmtFinSF1, 2ndFlrSF, LowQualFinSF, PoolArea: Had a lot of 0.0\n",
    "date_related = ['GarageYrBlt', 'MoSold', 'YrSold']\n",
    "boolean = ['CentralAir']\n",
    "target = 'SalePrice'\n",
    "to_drop = ['Id', 'PoolArea', 'PoolQC', 'YearBuilt', 'YearRemodAdd']\n",
    "\n",
    "assert len(categorical )+ len(numerical) + len(date_related) + len(boolean) + len(to_drop) + 1 == train_raw.shape[1]\n",
    "assert set(categorical + numerical + date_related + boolean + [target] + to_drop) == set(train_raw.columns)\n",
    "\n"
   ]
  },
  {
   "cell_type": "code",
   "execution_count": 12,
   "metadata": {},
   "outputs": [
    {
     "data": {
      "text/plain": [
       "<AxesSubplot:xlabel='SalePrice'>"
      ]
     },
     "execution_count": 12,
     "metadata": {},
     "output_type": "execute_result"
    },
    {
     "data": {
      "image/png": "[encoded data removed]",
      "text/plain": [
       "<Figure size 432x288 with 1 Axes>"
      ]
     },
     "metadata": {
      "needs_background": "light"
     },
     "output_type": "display_data"
    }
   ],
   "source": [
    "sns.distplot(np.log(train_raw.SalePrice))"
   ]
  },
  {
   "cell_type": "markdown",
   "metadata": {},
   "source": [
    "# Feature engineering"
   ]
  },
  {
   "cell_type": "code",
   "execution_count": 8,
   "metadata": {},
   "outputs": [],
   "source": [
    "train = train_raw.copy()\n",
    "train['TotalArea'] = train['1stFlrSF'] + train['2ndFlrSF']\n",
    "train['LivibleRatio'] = train['1stFlrSF'] / train['LotArea']\n",
    "train['HasMasVnr'] = train['MasVnrArea'] == 0\n",
    "train['BuildingAge'] = 2020 - train['YearBuilt']\n",
    "train['LastRemodling'] = 2020 - train['YearRemodAdd']\n",
    "train['HasPool'] = train['PoolArea'] > 0\n",
    "train['BuiltPercentage'] = train['1stFlrSF'] / train['LotArea']\n",
    "train['DiffBuitSold'] = train['YearBuilt'] - train['YrSold']\n",
    "train['AvrRoomSF'] = train['TotRmsAbvGrd'] / train['TotalArea']\n",
    "train['2ndfloorPercentage'] = train['2ndFlrSF'] / train['1stFlrSF']\n",
    "train['HasBasment'] = train['TotalBsmtSF'] > 0\n",
    "train['DiffRemodBuilt'] = train['YearRemodAdd'] - train['YearBuilt']\n",
    "\n",
    "\n",
    "to_normalize = ['DiffBuitSold', 'BuildingAge', 'LastRemodling', 'DiffRemodBuilt']\n",
    "train = train.drop(columns=to_drop, axis=1)"
   ]
  },
  {
   "cell_type": "markdown",
   "metadata": {},
   "source": [
    "# Base model"
   ]
  },
  {
   "cell_type": "code",
   "execution_count": 8,
   "metadata": {},
   "outputs": [],
   "source": [
    "train[numerical + date_related] = train[numerical + date_related].fillna(0)\n",
    "\n",
    "features = ['Street', 'OverallQual', 'BsmtQual', 'FullBath', 'GarageCars', 'LastRemodling', 'BuildingAge', 'MiscVal', '2ndFlrSF', 'LotArea']\n",
    "X_train, X_test = train_test_split(train, test_size=0.3)\n",
    "Y_train, Y_test = np.log(X_train.pop(target)), np.log(X_test.pop(target))\n",
    "# X_train, X_test = X_train[features], X_test[features]\n"
   ]
  },
  {
   "cell_type": "code",
   "execution_count": 33,
   "metadata": {},
   "outputs": [
    {
     "name": "stderr",
     "output_type": "stream",
     "text": [
      "/home/amine/miniconda3/envs/dev/lib/python3.8/site-packages/category_encoders/utils.py:21: FutureWarning: is_categorical is deprecated and will be removed in a future version.  Use is_categorical_dtype instead\n",
      "  elif pd.api.types.is_categorical(cols):\n",
      "/home/amine/miniconda3/envs/dev/lib/python3.8/site-packages/category_encoders/utils.py:21: FutureWarning: is_categorical is deprecated and will be removed in a future version.  Use is_categorical_dtype instead\n",
      "  elif pd.api.types.is_categorical(cols):\n",
      "/home/amine/miniconda3/envs/dev/lib/python3.8/site-packages/category_encoders/utils.py:21: FutureWarning: is_categorical is deprecated and will be removed in a future version.  Use is_categorical_dtype instead\n",
      "  elif pd.api.types.is_categorical(cols):\n",
      "/home/amine/miniconda3/envs/dev/lib/python3.8/site-packages/category_encoders/utils.py:21: FutureWarning: is_categorical is deprecated and will be removed in a future version.  Use is_categorical_dtype instead\n",
      "  elif pd.api.types.is_categorical(cols):\n",
      "/home/amine/miniconda3/envs/dev/lib/python3.8/site-packages/category_encoders/utils.py:21: FutureWarning: is_categorical is deprecated and will be removed in a future version.  Use is_categorical_dtype instead\n",
      "  elif pd.api.types.is_categorical(cols):\n"
     ]
    },
    {
     "data": {
      "text/plain": [
       "0.13072123344516245"
      ]
     },
     "execution_count": 33,
     "metadata": {},
     "output_type": "execute_result"
    }
   ],
   "source": [
    "def _rmse(model, X, y):\n",
    "    pred = model.predict(X)\n",
    "    mse = mean_squared_error(y, pred)\n",
    "    return np.sqrt(mse)\n",
    "\n",
    "X = train.copy()\n",
    "y = np.log(X.pop(target))\n",
    "\n",
    "selected = ['MSSubClass', 'MSZoning', 'LotArea', 'LandContour', 'LotConfig',\n",
    "       'Neighborhood', 'Condition1', 'OverallQual', 'OverallCond', 'BsmtQual',\n",
    "       'BsmtCond', 'BsmtExposure', 'BsmtFinSF1', 'BsmtUnfSF', 'TotalBsmtSF',\n",
    "       'HeatingQC', 'CentralAir', '1stFlrSF', '2ndFlrSF', 'GrLivArea',\n",
    "       'BsmtFullBath', 'FullBath', 'KitchenQual', 'Functional', 'Fireplaces',\n",
    "       'GarageYrBlt', 'GarageFinish', 'GarageCars', 'GarageArea',\n",
    "       'OpenPorchSF', 'ScreenPorch', 'SaleType', 'SaleCondition', 'TotalArea',\n",
    "       'BuildingAge', 'LastRemodling', 'BuiltPercentage', 'DiffBuitSold',\n",
    "       'AvrRoomSF']\n",
    "\n",
    "encoder = ce.TargetEncoder(cols=set(categorical + boolean) & set(selected))\n",
    "\n",
    "model = RandomForestRegressor(n_jobs=-1)\n",
    "        \n",
    "param_dist =  {'objective':'reg:squarederror', 'n_estimators':100, 'reg_lambda': 3, 'max_depth':3, 'colsample_bynode': 0.5, }\n",
    "model = XGBRegressor(**param_dist)\n",
    "\n",
    "\n",
    "\n",
    "clf = make_pipeline(encoder, model)\n",
    "\n",
    "cv = ShuffleSplit(n_splits=5, test_size=0.2, random_state=0)\n",
    "\n",
    "cross_val_score(clf, X[selected], y, cv=cv, scoring=_rmse).mean()"
   ]
  },
  {
   "cell_type": "code",
   "execution_count": 11,
   "metadata": {},
   "outputs": [
    {
     "name": "stderr",
     "output_type": "stream",
     "text": [
      "/home/amine/miniconda3/envs/dev/lib/python3.8/site-packages/category_encoders/utils.py:21: FutureWarning: is_categorical is deprecated and will be removed in a future version.  Use is_categorical_dtype instead\n",
      "  elif pd.api.types.is_categorical(cols):\n"
     ]
    }
   ],
   "source": [
    "# encoder = ce.TargetEncoder(cols=set(categorical + boolean) & set(features))\n",
    "encoder = ce.TargetEncoder(cols=categorical + boolean)\n",
    "encoder.fit(X_train, Y_train)\n",
    "X_train, X_test = encoder.transform(X_train, Y_train), encoder.transform(X_test, Y_test)\n",
    "# X_train[categorical], X_test[categorical] = X_train[categorical].astype(str), X_test[categorical].astype(str)"
   ]
  },
  {
   "cell_type": "code",
   "execution_count": 28,
   "metadata": {
    "scrolled": true
   },
   "outputs": [
    {
     "name": "stdout",
     "output_type": "stream",
     "text": [
      "[0]\tvalidation_0-rmse:8.09673\tvalidation_1-rmse:8.05082\n",
      "[1]\tvalidation_0-rmse:5.68263\tvalidation_1-rmse:5.63542\n",
      "[2]\tvalidation_0-rmse:3.99395\tvalidation_1-rmse:3.94493\n",
      "[3]\tvalidation_0-rmse:2.81339\tvalidation_1-rmse:2.77015\n",
      "[4]\tvalidation_0-rmse:1.98696\tvalidation_1-rmse:1.95373\n",
      "[5]\tvalidation_0-rmse:1.40808\tvalidation_1-rmse:1.37968\n",
      "[6]\tvalidation_0-rmse:1.00263\tvalidation_1-rmse:0.97718\n",
      "[7]\tvalidation_0-rmse:0.71847\tvalidation_1-rmse:0.70061\n",
      "[8]\tvalidation_0-rmse:0.52016\tvalidation_1-rmse:0.51039\n",
      "[9]\tvalidation_0-rmse:0.38475\tvalidation_1-rmse:0.38114\n",
      "[10]\tvalidation_0-rmse:0.29211\tvalidation_1-rmse:0.29629\n",
      "[11]\tvalidation_0-rmse:0.23035\tvalidation_1-rmse:0.24254\n",
      "[12]\tvalidation_0-rmse:0.19147\tvalidation_1-rmse:0.20996\n",
      "[13]\tvalidation_0-rmse:0.16421\tvalidation_1-rmse:0.18676\n",
      "[14]\tvalidation_0-rmse:0.14773\tvalidation_1-rmse:0.17355\n",
      "[15]\tvalidation_0-rmse:0.13674\tvalidation_1-rmse:0.16714\n",
      "[16]\tvalidation_0-rmse:0.13072\tvalidation_1-rmse:0.16385\n",
      "[17]\tvalidation_0-rmse:0.12584\tvalidation_1-rmse:0.16033\n",
      "[18]\tvalidation_0-rmse:0.12173\tvalidation_1-rmse:0.15613\n",
      "[19]\tvalidation_0-rmse:0.11836\tvalidation_1-rmse:0.15329\n",
      "[20]\tvalidation_0-rmse:0.11627\tvalidation_1-rmse:0.15231\n",
      "[21]\tvalidation_0-rmse:0.11405\tvalidation_1-rmse:0.15116\n",
      "[22]\tvalidation_0-rmse:0.11244\tvalidation_1-rmse:0.15047\n",
      "[23]\tvalidation_0-rmse:0.11026\tvalidation_1-rmse:0.14840\n",
      "[24]\tvalidation_0-rmse:0.10890\tvalidation_1-rmse:0.14811\n",
      "[25]\tvalidation_0-rmse:0.10711\tvalidation_1-rmse:0.14741\n",
      "[26]\tvalidation_0-rmse:0.10592\tvalidation_1-rmse:0.14761\n",
      "[27]\tvalidation_0-rmse:0.10455\tvalidation_1-rmse:0.14647\n",
      "[28]\tvalidation_0-rmse:0.10322\tvalidation_1-rmse:0.14504\n",
      "[29]\tvalidation_0-rmse:0.10201\tvalidation_1-rmse:0.14402\n",
      "[30]\tvalidation_0-rmse:0.10094\tvalidation_1-rmse:0.14323\n",
      "[31]\tvalidation_0-rmse:0.10003\tvalidation_1-rmse:0.14341\n",
      "[32]\tvalidation_0-rmse:0.09897\tvalidation_1-rmse:0.14314\n",
      "[33]\tvalidation_0-rmse:0.09791\tvalidation_1-rmse:0.14346\n",
      "[34]\tvalidation_0-rmse:0.09690\tvalidation_1-rmse:0.14290\n",
      "[35]\tvalidation_0-rmse:0.09548\tvalidation_1-rmse:0.14230\n",
      "[36]\tvalidation_0-rmse:0.09445\tvalidation_1-rmse:0.14146\n",
      "[37]\tvalidation_0-rmse:0.09388\tvalidation_1-rmse:0.14148\n",
      "[38]\tvalidation_0-rmse:0.09319\tvalidation_1-rmse:0.14100\n",
      "[39]\tvalidation_0-rmse:0.09232\tvalidation_1-rmse:0.14041\n",
      "[40]\tvalidation_0-rmse:0.09160\tvalidation_1-rmse:0.14061\n",
      "[41]\tvalidation_0-rmse:0.09083\tvalidation_1-rmse:0.14033\n",
      "[42]\tvalidation_0-rmse:0.09033\tvalidation_1-rmse:0.13977\n",
      "[43]\tvalidation_0-rmse:0.08984\tvalidation_1-rmse:0.13956\n",
      "[44]\tvalidation_0-rmse:0.08926\tvalidation_1-rmse:0.13973\n",
      "[45]\tvalidation_0-rmse:0.08867\tvalidation_1-rmse:0.13938\n",
      "[46]\tvalidation_0-rmse:0.08807\tvalidation_1-rmse:0.13914\n",
      "[47]\tvalidation_0-rmse:0.08752\tvalidation_1-rmse:0.13919\n",
      "[48]\tvalidation_0-rmse:0.08725\tvalidation_1-rmse:0.13919\n",
      "[49]\tvalidation_0-rmse:0.08676\tvalidation_1-rmse:0.13917\n",
      "[50]\tvalidation_0-rmse:0.08637\tvalidation_1-rmse:0.13900\n",
      "[51]\tvalidation_0-rmse:0.08612\tvalidation_1-rmse:0.13900\n",
      "[52]\tvalidation_0-rmse:0.08551\tvalidation_1-rmse:0.13934\n",
      "[53]\tvalidation_0-rmse:0.08482\tvalidation_1-rmse:0.13881\n",
      "[54]\tvalidation_0-rmse:0.08438\tvalidation_1-rmse:0.13875\n",
      "[55]\tvalidation_0-rmse:0.08378\tvalidation_1-rmse:0.13892\n",
      "[56]\tvalidation_0-rmse:0.08321\tvalidation_1-rmse:0.13843\n",
      "[57]\tvalidation_0-rmse:0.08288\tvalidation_1-rmse:0.13821\n",
      "[58]\tvalidation_0-rmse:0.08258\tvalidation_1-rmse:0.13816\n",
      "[59]\tvalidation_0-rmse:0.08214\tvalidation_1-rmse:0.13804\n",
      "[60]\tvalidation_0-rmse:0.08161\tvalidation_1-rmse:0.13797\n",
      "[61]\tvalidation_0-rmse:0.08123\tvalidation_1-rmse:0.13797\n",
      "[62]\tvalidation_0-rmse:0.08076\tvalidation_1-rmse:0.13747\n",
      "[63]\tvalidation_0-rmse:0.08061\tvalidation_1-rmse:0.13745\n",
      "[64]\tvalidation_0-rmse:0.08035\tvalidation_1-rmse:0.13709\n",
      "[65]\tvalidation_0-rmse:0.07986\tvalidation_1-rmse:0.13707\n",
      "[66]\tvalidation_0-rmse:0.07938\tvalidation_1-rmse:0.13650\n",
      "[67]\tvalidation_0-rmse:0.07906\tvalidation_1-rmse:0.13656\n",
      "[68]\tvalidation_0-rmse:0.07891\tvalidation_1-rmse:0.13656\n",
      "[69]\tvalidation_0-rmse:0.07852\tvalidation_1-rmse:0.13615\n",
      "[70]\tvalidation_0-rmse:0.07833\tvalidation_1-rmse:0.13618\n",
      "[71]\tvalidation_0-rmse:0.07797\tvalidation_1-rmse:0.13614\n",
      "[72]\tvalidation_0-rmse:0.07747\tvalidation_1-rmse:0.13599\n",
      "[73]\tvalidation_0-rmse:0.07722\tvalidation_1-rmse:0.13611\n",
      "[74]\tvalidation_0-rmse:0.07684\tvalidation_1-rmse:0.13563\n",
      "[75]\tvalidation_0-rmse:0.07664\tvalidation_1-rmse:0.13564\n",
      "[76]\tvalidation_0-rmse:0.07630\tvalidation_1-rmse:0.13569\n",
      "[77]\tvalidation_0-rmse:0.07618\tvalidation_1-rmse:0.13565\n",
      "[78]\tvalidation_0-rmse:0.07575\tvalidation_1-rmse:0.13583\n",
      "[79]\tvalidation_0-rmse:0.07566\tvalidation_1-rmse:0.13580\n",
      "[80]\tvalidation_0-rmse:0.07518\tvalidation_1-rmse:0.13560\n",
      "[81]\tvalidation_0-rmse:0.07498\tvalidation_1-rmse:0.13564\n",
      "[82]\tvalidation_0-rmse:0.07457\tvalidation_1-rmse:0.13566\n",
      "[83]\tvalidation_0-rmse:0.07416\tvalidation_1-rmse:0.13558\n",
      "[84]\tvalidation_0-rmse:0.07366\tvalidation_1-rmse:0.13543\n",
      "[85]\tvalidation_0-rmse:0.07337\tvalidation_1-rmse:0.13537\n",
      "[86]\tvalidation_0-rmse:0.07296\tvalidation_1-rmse:0.13525\n",
      "[87]\tvalidation_0-rmse:0.07282\tvalidation_1-rmse:0.13523\n",
      "[88]\tvalidation_0-rmse:0.07234\tvalidation_1-rmse:0.13524\n",
      "[89]\tvalidation_0-rmse:0.07211\tvalidation_1-rmse:0.13527\n",
      "[90]\tvalidation_0-rmse:0.07192\tvalidation_1-rmse:0.13527\n",
      "[91]\tvalidation_0-rmse:0.07184\tvalidation_1-rmse:0.13513\n",
      "[92]\tvalidation_0-rmse:0.07150\tvalidation_1-rmse:0.13515\n",
      "[93]\tvalidation_0-rmse:0.07114\tvalidation_1-rmse:0.13512\n",
      "[94]\tvalidation_0-rmse:0.07103\tvalidation_1-rmse:0.13509\n",
      "[95]\tvalidation_0-rmse:0.07076\tvalidation_1-rmse:0.13502\n",
      "[96]\tvalidation_0-rmse:0.07061\tvalidation_1-rmse:0.13515\n",
      "[97]\tvalidation_0-rmse:0.07030\tvalidation_1-rmse:0.13516\n",
      "[98]\tvalidation_0-rmse:0.06973\tvalidation_1-rmse:0.13503\n",
      "[99]\tvalidation_0-rmse:0.06939\tvalidation_1-rmse:0.13470\n"
     ]
    },
    {
     "data": {
      "text/plain": [
       "(0.06938709885026233, 0.13470436765990756)"
      ]
     },
     "execution_count": 28,
     "metadata": {},
     "output_type": "execute_result"
    }
   ],
   "source": [
    "# model = RandomForestRegressor(n_jobs=-1)\n",
    "# model.fit(X_train, Y_train)\n",
    "\n",
    "# cat_indices = [X_train.columns.get_loc(c) for c in set(categorical) & set(features)]\n",
    "# train_pool = Pool(X_train, Y_train, cat_features=cat_indices)\n",
    "# test_pool = Pool(X_test, cat_features=cat_indices)\n",
    "# model = CatBoostRegressor(loss_function='RMSE')\n",
    "# model.fit(train_pool)\n",
    "\n",
    "\n",
    "categorical = ['MSSubClass', 'MSZoning', 'Street', 'Alley', 'LotShape', 'LandContour', 'Utilities', 'LotConfig', 'LandSlope', 'Neighborhood', 'Condition1', 'Condition2',\n",
    "              'BldgType', 'HouseStyle', 'RoofStyle', 'RoofMatl', 'Exterior1st', 'Exterior2nd', 'MasVnrType', 'ExterQual', 'ExterCond', 'Foundation',\n",
    "              'BsmtQual', 'BsmtCond', 'BsmtExposure', 'BsmtFinType1', 'BsmtFinType2', 'Heating', 'HeatingQC', 'Electrical', 'KitchenQual', 'Functional', 'FireplaceQu',\n",
    "              'GarageType', 'GarageFinish', 'GarageQual', 'GarageCond', 'PavedDrive', 'Fence', 'MiscFeature', 'SaleType', 'SaleCondition']\n",
    "# Street, Utilities, Condition2, RoofMatl: bad repartition\n",
    "# Alley, PoolQC: most are missing\n",
    "\n",
    "numerical = ['LotFrontage', 'LotArea', 'MasVnrArea', 'BsmtFinSF1', 'BsmtFinSF2', 'BsmtUnfSF', 'TotalBsmtSF', '1stFlrSF', '2ndFlrSF', 'LowQualFinSF', 'GrLivArea',\n",
    "             'BsmtFullBath', 'BsmtHalfBath', 'FullBath', 'HalfBath', 'BedroomAbvGr', 'KitchenAbvGr', 'TotRmsAbvGrd', 'Fireplaces', 'GarageCars', 'GarageArea', 'WoodDeckSF',\n",
    "             'OpenPorchSF', 'EnclosedPorch', '3SsnPorch', 'ScreenPorch', 'MiscVal', 'OverallCond', 'OverallQual', 'LotConfig']\n",
    "# MasVnrArea, BsmtFinSF1, 2ndFlrSF, LowQualFinSF, PoolArea: Had a lot of 0.0\n",
    "date_related = ['GarageYrBlt', 'MoSold', 'YrSold']\n",
    "boolean = ['CentralAir']\n",
    "\n",
    "selected = ['MSSubClass', 'Street', 'Alley', 'LandSlope', 'Neighborhood', 'LotArea', '2ndFlrSF', 'FullBath', 'Fireplaces', 'GarageCars', 'MiscVal', 'OverallCond',\n",
    "            'OverallQual', 'HalfBath',  'KitchenAbvGr', 'TotalBsmtSF', 'GrLivArea', ]\n",
    "\n",
    "selected = ['MSSubClass', 'MSZoning', 'LotArea', 'Neighborhood', 'OverallQual',\n",
    "       'OverallCond', 'BsmtCond', 'BsmtExposure', 'BsmtFinSF1', 'TotalBsmtSF',\n",
    "       'HeatingQC', 'CentralAir', '1stFlrSF', '2ndFlrSF', 'GrLivArea',\n",
    "       'BsmtFullBath', 'KitchenQual', 'Functional', 'Fireplaces',\n",
    "       'GarageYrBlt', 'GarageCars', 'WoodDeckSF', 'OpenPorchSF', 'ScreenPorch',\n",
    "       'SaleCondition', 'TotalArea', 'LastRemodling', 'BuiltPercentage',\n",
    "       'DiffBuitSold']\n",
    "param_dist = {'objective':'reg:squarederror', 'n_estimators':100, 'reg_lambda': 3, 'max_depth':3, 'colsample_bynode': 0.2, }\n",
    "model = XGBRegressor(**param_dist)\n",
    "model.fit(X_train[selected], Y_train, eval_set=[(X_train[selected], Y_train), (X_test[selected], Y_test)], eval_metric=\"rmse\")\n",
    "\n",
    "# model = RandomForestRegressor(n_jobs=-1)\n",
    "# model.fit(X_train[selected], Y_train)\n",
    "\n",
    "rmse()"
   ]
  },
  {
   "cell_type": "code",
   "execution_count": 110,
   "metadata": {},
   "outputs": [],
   "source": [
    "def rmse(selected=False):\n",
    "    if selected:\n",
    "        train_pred, test_pred  = model.predict(X_train[selected]), model.predict(X_test[selected])\n",
    "    else:\n",
    "        train_pred, test_pred  = model.predict(X_train), model.predict(X_test)\n",
    "        \n",
    "    train_mse, test_mse = mean_squared_error(train_pred, Y_train), mean_squared_error(test_pred, Y_test), \n",
    "    return np.sqrt(train_mse), np.sqrt(test_mse) "
   ]
  },
  {
   "cell_type": "code",
   "execution_count": null,
   "metadata": {},
   "outputs": [],
   "source": []
  },
  {
   "cell_type": "code",
   "execution_count": 457,
   "metadata": {},
   "outputs": [
    {
     "ename": "AttributeError",
     "evalue": "'XGBRegressor' object has no attribute 'estimators_'",
     "output_type": "error",
     "traceback": [
      "\u001b[0;31m---------------------------------------------------------------------------\u001b[0m",
      "\u001b[0;31mAttributeError\u001b[0m                            Traceback (most recent call last)",
      "\u001b[0;32m<ipython-input-457-c6c92bdfcf59>\u001b[0m in \u001b[0;36m<module>\u001b[0;34m\u001b[0m\n\u001b[1;32m      1\u001b[0m \u001b[0mimportances\u001b[0m \u001b[0;34m=\u001b[0m \u001b[0mmodel\u001b[0m\u001b[0;34m.\u001b[0m\u001b[0mfeature_importances_\u001b[0m\u001b[0;34m\u001b[0m\u001b[0;34m\u001b[0m\u001b[0m\n\u001b[0;32m----> 2\u001b[0;31m std = np.std([tree.feature_importances_ for tree in model.estimators_],\n\u001b[0m\u001b[1;32m      3\u001b[0m              axis=0)\n\u001b[1;32m      4\u001b[0m \u001b[0mindices\u001b[0m \u001b[0;34m=\u001b[0m \u001b[0mnp\u001b[0m\u001b[0;34m.\u001b[0m\u001b[0margsort\u001b[0m\u001b[0;34m(\u001b[0m\u001b[0mimportances\u001b[0m\u001b[0;34m)\u001b[0m\u001b[0;34m[\u001b[0m\u001b[0;34m:\u001b[0m\u001b[0;34m:\u001b[0m\u001b[0;34m-\u001b[0m\u001b[0;36m1\u001b[0m\u001b[0;34m]\u001b[0m\u001b[0;34m\u001b[0m\u001b[0;34m\u001b[0m\u001b[0m\n\u001b[1;32m      5\u001b[0m \u001b[0mcolumns\u001b[0m \u001b[0;34m=\u001b[0m \u001b[0mX_train\u001b[0m\u001b[0;34m.\u001b[0m\u001b[0mcolumns\u001b[0m\u001b[0;34m.\u001b[0m\u001b[0mto_list\u001b[0m\u001b[0;34m(\u001b[0m\u001b[0;34m)\u001b[0m\u001b[0;34m\u001b[0m\u001b[0;34m\u001b[0m\u001b[0m\n",
      "\u001b[0;31mAttributeError\u001b[0m: 'XGBRegressor' object has no attribute 'estimators_'"
     ]
    }
   ],
   "source": [
    "importances = model.feature_importances_\n",
    "std = np.std([tree.feature_importances_ for tree in model.estimators_],\n",
    "             axis=0)\n",
    "indices = np.argsort(importances)[::-1]\n",
    "columns = X_train.columns.to_list()\n",
    "\n",
    "# Print the feature ranking\n",
    "print(\"Feature ranking:\")\n",
    "\n",
    "for f in range(X_train.shape[1]):\n",
    "    print(\"%d. feature %s (%f)\" % (f + 1, columns[indices[f]], importances[indices[f]]))\n",
    "\n",
    "# Plot the impurity-based feature importances of the model\n",
    "plt.figure()\n",
    "plt.title(\"Feature importances\")\n",
    "plt.bar(range(X_train.shape[1]), importances[indices],\n",
    "        color=\"r\", yerr=std[indices], align=\"center\")\n",
    "plt.xticks(range(X_train.shape[1]), indices)\n",
    "plt.xlim([-1, X_train.shape[1]])\n",
    "plt.show()"
   ]
  },
  {
   "cell_type": "code",
   "execution_count": null,
   "metadata": {},
   "outputs": [],
   "source": []
  },
  {
   "cell_type": "code",
   "execution_count": null,
   "metadata": {},
   "outputs": [],
   "source": [
    "from collections import defaultdict\n",
    "\n",
    "\n",
    "corr_dict = train.corr().abs().to_dict()\n",
    "redundants = defaultdict(list)\n",
    "for key, value in corr_dict.items():\n",
    "    for f, corr in value.items():\n",
    "        if corr > 0.8:\n",
    "            if key != f:\n",
    "                redundants[key].append(f)"
   ]
  },
  {
   "cell_type": "code",
   "execution_count": null,
   "metadata": {},
   "outputs": [],
   "source": [
    "redundants"
   ]
  },
  {
   "cell_type": "code",
   "execution_count": null,
   "metadata": {},
   "outputs": [],
   "source": [
    "def cramers_v(x, y):\n",
    "    confusion_matrix = pd.crosstab(x,y)\n",
    "    chi2 = ss.chi2_contingency(confusion_matrix)[0]\n",
    "    n = confusion_matrix.sum().sum()\n",
    "    phi2 = chi2/n\n",
    "    r,k = confusion_matrix.shape\n",
    "    phi2corr = max(0, phi2-((k-1)*(r-1))/(n-1))\n",
    "    rcorr = r-((r-1)**2)/(n-1)\n",
    "    kcorr = k-((k-1)**2)/(n-1)\n",
    "    return np.sqrt(phi2corr/min((kcorr-1),(rcorr-1)))"
   ]
  },
  {
   "cell_type": "code",
   "execution_count": 120,
   "metadata": {},
   "outputs": [
    {
     "data": {
      "text/html": [
       "<div>\n",
       "<style scoped>\n",
       "    .dataframe tbody tr th:only-of-type {\n",
       "        vertical-align: middle;\n",
       "    }\n",
       "\n",
       "    .dataframe tbody tr th {\n",
       "        vertical-align: top;\n",
       "    }\n",
       "\n",
       "    .dataframe thead th {\n",
       "        text-align: right;\n",
       "    }\n",
       "</style>\n",
       "<table border=\"1\" class=\"dataframe\">\n",
       "  <thead>\n",
       "    <tr style=\"text-align: right;\">\n",
       "      <th></th>\n",
       "      <th>LotShape</th>\n",
       "      <th>LandContour</th>\n",
       "    </tr>\n",
       "  </thead>\n",
       "  <tbody>\n",
       "    <tr>\n",
       "      <th>0</th>\n",
       "      <td>Reg</td>\n",
       "      <td>Lvl</td>\n",
       "    </tr>\n",
       "    <tr>\n",
       "      <th>1</th>\n",
       "      <td>Reg</td>\n",
       "      <td>Lvl</td>\n",
       "    </tr>\n",
       "    <tr>\n",
       "      <th>2</th>\n",
       "      <td>IR1</td>\n",
       "      <td>Lvl</td>\n",
       "    </tr>\n",
       "    <tr>\n",
       "      <th>3</th>\n",
       "      <td>IR1</td>\n",
       "      <td>Lvl</td>\n",
       "    </tr>\n",
       "    <tr>\n",
       "      <th>4</th>\n",
       "      <td>IR1</td>\n",
       "      <td>Lvl</td>\n",
       "    </tr>\n",
       "    <tr>\n",
       "      <th>...</th>\n",
       "      <td>...</td>\n",
       "      <td>...</td>\n",
       "    </tr>\n",
       "    <tr>\n",
       "      <th>1455</th>\n",
       "      <td>Reg</td>\n",
       "      <td>Lvl</td>\n",
       "    </tr>\n",
       "    <tr>\n",
       "      <th>1456</th>\n",
       "      <td>Reg</td>\n",
       "      <td>Lvl</td>\n",
       "    </tr>\n",
       "    <tr>\n",
       "      <th>1457</th>\n",
       "      <td>Reg</td>\n",
       "      <td>Lvl</td>\n",
       "    </tr>\n",
       "    <tr>\n",
       "      <th>1458</th>\n",
       "      <td>Reg</td>\n",
       "      <td>Lvl</td>\n",
       "    </tr>\n",
       "    <tr>\n",
       "      <th>1459</th>\n",
       "      <td>Reg</td>\n",
       "      <td>Lvl</td>\n",
       "    </tr>\n",
       "  </tbody>\n",
       "</table>\n",
       "<p>1460 rows × 2 columns</p>\n",
       "</div>"
      ],
      "text/plain": [
       "     LotShape LandContour\n",
       "0         Reg         Lvl\n",
       "1         Reg         Lvl\n",
       "2         IR1         Lvl\n",
       "3         IR1         Lvl\n",
       "4         IR1         Lvl\n",
       "...       ...         ...\n",
       "1455      Reg         Lvl\n",
       "1456      Reg         Lvl\n",
       "1457      Reg         Lvl\n",
       "1458      Reg         Lvl\n",
       "1459      Reg         Lvl\n",
       "\n",
       "[1460 rows x 2 columns]"
      ]
     },
     "execution_count": 120,
     "metadata": {},
     "output_type": "execute_result"
    }
   ],
   "source": [
    "import pandas as pd\n",
    "import numpy as np\n",
    "import scipy.stats as ss\n",
    "import seaborn as sns\n",
    "train[['LotShape', 'LandContour']]"
   ]
  },
  {
   "cell_type": "code",
   "execution_count": 131,
   "metadata": {},
   "outputs": [
    {
     "name": "stdout",
     "output_type": "stream",
     "text": [
      "MSSubClass BldgType\n",
      "MSSubClass HouseStyle\n",
      "MSZoning Neighborhood\n",
      "OverallQual ExterQual\n",
      "OverallQual KitchenQual\n",
      "Exterior1st Exterior2nd\n",
      "ExterQual KitchenQual\n",
      "Foundation BsmtQual\n",
      "BsmtQual BsmtCond\n",
      "BsmtQual BsmtExposure\n",
      "BsmtQual BsmtFinType1\n",
      "BsmtCond BsmtFinType1\n",
      "BsmtExposure BsmtFinType1\n",
      "GarageType GarageFinish\n",
      "GarageFinish GarageQual\n",
      "GarageFinish GarageCond\n",
      "GarageQual GarageCond\n"
     ]
    }
   ],
   "source": [
    "from itertools import combinations\n",
    "\n",
    "for f1, f2 in combinations(categorical, 2):\n",
    "    if cramers_v(X_train[f1], X_train[f2]) > 0.5:\n",
    "        print(f1, f2)    \n",
    "        \n"
   ]
  },
  {
   "cell_type": "code",
   "execution_count": 126,
   "metadata": {},
   "outputs": [
    {
     "data": {
      "text/plain": [
       "0       NaN\n",
       "1       NaN\n",
       "2       NaN\n",
       "3       NaN\n",
       "4       NaN\n",
       "       ... \n",
       "1455    NaN\n",
       "1456    NaN\n",
       "1457    NaN\n",
       "1458    NaN\n",
       "1459    NaN\n",
       "Name: PoolQC, Length: 1460, dtype: object"
      ]
     },
     "execution_count": 126,
     "metadata": {},
     "output_type": "execute_result"
    }
   ],
   "source": [
    "train['PoolQC']"
   ]
  },
  {
   "cell_type": "code",
   "execution_count": null,
   "metadata": {},
   "outputs": [],
   "source": []
  },
  {
   "cell_type": "code",
   "execution_count": null,
   "metadata": {},
   "outputs": [],
   "source": []
  },
  {
   "cell_type": "markdown",
   "metadata": {},
   "source": [
    "# Hyperparameters tuning"
   ]
  },
  {
   "cell_type": "code",
   "execution_count": 216,
   "metadata": {},
   "outputs": [],
   "source": [
    "# Number of trees in random forest\n",
    "n_estimators = [100, 200, 500]\n",
    "# Number of features to consider at every split\n",
    "max_features = ['auto', 'sqrt']\n",
    "# Maximum number of levels in tree\n",
    "max_depth = [3, 4, 5, 6, 8, 10, 12, 13, 15, 20, 25]\n",
    "max_depth.append(None)\n",
    "# Minimum number of samples required to split a node\n",
    "min_samples_split = [2, 5, 10]\n",
    "# Minimum number of samples required at each leaf node\n",
    "min_samples_leaf = [1, 2, 4]\n",
    "# Method of selecting samples for training each tree\n",
    "bootstrap = [True, False]\n",
    "# Create the random grid\n",
    "param_grid = {'n_estimators': n_estimators,\n",
    "               'max_features': max_features,\n",
    "               'max_depth': max_depth,\n",
    "               'min_samples_split': min_samples_split,\n",
    "               'min_samples_leaf': min_samples_leaf,\n",
    "               'bootstrap': bootstrap}"
   ]
  },
  {
   "cell_type": "code",
   "execution_count": 217,
   "metadata": {},
   "outputs": [],
   "source": [
    "# Use the random grid to search for best hyperparameters\n",
    "# First create the base model to tune\n",
    "rf = RandomForestRegressor()\n",
    "# Random search of parameters, using 3 fold cross validation, \n",
    "# search across 100 different combinations, and use all available cores\n",
    "rf_random = GridSearchCV(rf, param_grid, cv = 5, verbose=2, n_jobs = -1, return_train_score=True)"
   ]
  },
  {
   "cell_type": "code",
   "execution_count": 218,
   "metadata": {},
   "outputs": [
    {
     "name": "stderr",
     "output_type": "stream",
     "text": [
      "/home/amine/miniconda3/envs/dev/lib/python3.8/site-packages/category_encoders/utils.py:21: FutureWarning: is_categorical is deprecated and will be removed in a future version.  Use is_categorical_dtype instead\n",
      "  elif pd.api.types.is_categorical(cols):\n"
     ]
    },
    {
     "name": "stdout",
     "output_type": "stream",
     "text": [
      "Fitting 5 folds for each of 1296 candidates, totalling 6480 fits\n"
     ]
    },
    {
     "name": "stderr",
     "output_type": "stream",
     "text": [
      "[Parallel(n_jobs=-1)]: Using backend LokyBackend with 8 concurrent workers.\n",
      "[Parallel(n_jobs=-1)]: Done  25 tasks      | elapsed:   16.8s\n",
      "[Parallel(n_jobs=-1)]: Done 146 tasks      | elapsed:  1.4min\n",
      "[Parallel(n_jobs=-1)]: Done 349 tasks      | elapsed:  2.8min\n",
      "[Parallel(n_jobs=-1)]: Done 632 tasks      | elapsed:  5.3min\n",
      "[Parallel(n_jobs=-1)]: Done 997 tasks      | elapsed:  8.8min\n",
      "[Parallel(n_jobs=-1)]: Done 1442 tasks      | elapsed: 14.5min\n",
      "[Parallel(n_jobs=-1)]: Done 1969 tasks      | elapsed: 22.4min\n",
      "[Parallel(n_jobs=-1)]: Done 2576 tasks      | elapsed: 32.4min\n",
      "[Parallel(n_jobs=-1)]: Done 3265 tasks      | elapsed: 42.0min\n",
      "[Parallel(n_jobs=-1)]: Done 4034 tasks      | elapsed: 49.8min\n",
      "[Parallel(n_jobs=-1)]: Done 4885 tasks      | elapsed: 65.0min\n",
      "[Parallel(n_jobs=-1)]: Done 5816 tasks      | elapsed: 87.7min\n",
      "[Parallel(n_jobs=-1)]: Done 6480 out of 6480 | elapsed: 100.4min finished\n"
     ]
    },
    {
     "data": {
      "text/plain": [
       "GridSearchCV(cv=5, estimator=RandomForestRegressor(), n_jobs=-1,\n",
       "             param_grid={'bootstrap': [True, False],\n",
       "                         'max_depth': [3, 4, 5, 6, 8, 10, 12, 13, 15, 20, 25,\n",
       "                                       None],\n",
       "                         'max_features': ['auto', 'sqrt'],\n",
       "                         'min_samples_leaf': [1, 2, 4],\n",
       "                         'min_samples_split': [2, 5, 10],\n",
       "                         'n_estimators': [100, 200, 500]},\n",
       "             return_train_score=True, verbose=2)"
      ]
     },
     "execution_count": 218,
     "metadata": {},
     "output_type": "execute_result"
    }
   ],
   "source": [
    "train[numerical + date_related] = train[numerical + date_related].fillna(0)\n",
    "X = train.copy()\n",
    "y = np.log(X.pop(target))\n",
    "\n",
    "encoder = ce.TargetEncoder(cols=categorical + boolean)\n",
    "X = encoder.fit_transform(X, y)\n",
    "\n",
    "# Fit the random search model\n",
    "rf_random.fit(X, y)"
   ]
  },
  {
   "cell_type": "code",
   "execution_count": 219,
   "metadata": {},
   "outputs": [
    {
     "data": {
      "text/plain": [
       "{'bootstrap': False,\n",
       " 'max_depth': None,\n",
       " 'max_features': 'sqrt',\n",
       " 'min_samples_leaf': 1,\n",
       " 'min_samples_split': 2,\n",
       " 'n_estimators': 200}"
      ]
     },
     "execution_count": 219,
     "metadata": {},
     "output_type": "execute_result"
    }
   ],
   "source": [
    "rf_random.best_params_"
   ]
  },
  {
   "cell_type": "code",
   "execution_count": 220,
   "metadata": {},
   "outputs": [
    {
     "data": {
      "text/plain": [
       "RandomForestRegressor(bootstrap=False, max_features='sqrt', n_estimators=200)"
      ]
     },
     "execution_count": 220,
     "metadata": {},
     "output_type": "execute_result"
    }
   ],
   "source": [
    "rf = RandomForestRegressor(**rf_random.best_params_)\n",
    "rf.fit(X, y)"
   ]
  },
  {
   "cell_type": "code",
   "execution_count": 221,
   "metadata": {},
   "outputs": [
    {
     "data": {
      "text/plain": [
       "(0.05425825832647677, 0.13629304650340832)"
      ]
     },
     "execution_count": 221,
     "metadata": {},
     "output_type": "execute_result"
    }
   ],
   "source": [
    "rmse()"
   ]
  },
  {
   "cell_type": "code",
   "execution_count": 22,
   "metadata": {},
   "outputs": [],
   "source": [
    "from sklearn.feature_selection import RFECV"
   ]
  },
  {
   "cell_type": "code",
   "execution_count": 23,
   "metadata": {},
   "outputs": [
    {
     "name": "stderr",
     "output_type": "stream",
     "text": [
      "/home/amine/miniconda3/envs/dev/lib/python3.8/site-packages/category_encoders/utils.py:21: FutureWarning: is_categorical is deprecated and will be removed in a future version.  Use is_categorical_dtype instead\n",
      "  elif pd.api.types.is_categorical(cols):\n"
     ]
    },
    {
     "data": {
      "text/plain": [
       "RFECV(cv=5,\n",
       "      estimator=XGBRegressor(base_score=None, booster=None,\n",
       "                             colsample_bylevel=None, colsample_bynode=0.2,\n",
       "                             colsample_bytree=None, gamma=None, gpu_id=None,\n",
       "                             importance_type='gain',\n",
       "                             interaction_constraints=None, learning_rate=None,\n",
       "                             max_delta_step=None, max_depth=3,\n",
       "                             min_child_weight=None, missing=nan,\n",
       "                             monotone_constraints=None, n_estimators=100,\n",
       "                             n_jobs=None, num_parallel_tree=None,\n",
       "                             random_state=None, reg_alpha=None, reg_lambda=3,\n",
       "                             scale_pos_weight=None, subsample=None,\n",
       "                             tree_method=None, validate_parameters=None,\n",
       "                             verbosity=None),\n",
       "      n_jobs=-1)"
      ]
     },
     "execution_count": 23,
     "metadata": {},
     "output_type": "execute_result"
    }
   ],
   "source": [
    "X = train.copy().fillna(-1)\n",
    "y = np.log(X.pop(target))\n",
    "\n",
    "encoder = ce.TargetEncoder(cols=categorical + boolean)\n",
    "X = encoder.fit_transform(X, y)\n",
    "\n",
    "param_dist = {'objective':'reg:squarederror', 'n_estimators':100, 'reg_lambda': 3, 'max_depth':3, 'colsample_bynode': 0.2, }\n",
    "model = XGBRegressor(**param_dist)\n",
    "selector = RFECV(model, step=1, cv=5, n_jobs=-1)\n",
    "selector.fit(X, y)"
   ]
  },
  {
   "cell_type": "code",
   "execution_count": 24,
   "metadata": {},
   "outputs": [],
   "source": [
    "selected = X.columns[selector.support_]"
   ]
  },
  {
   "cell_type": "code",
   "execution_count": 25,
   "metadata": {},
   "outputs": [
    {
     "data": {
      "text/plain": [
       "Index(['MSSubClass', 'MSZoning', 'LotArea', 'Neighborhood', 'OverallQual',\n",
       "       'OverallCond', 'BsmtCond', 'BsmtExposure', 'BsmtFinSF1', 'TotalBsmtSF',\n",
       "       'HeatingQC', 'CentralAir', '1stFlrSF', '2ndFlrSF', 'GrLivArea',\n",
       "       'BsmtFullBath', 'KitchenQual', 'Functional', 'Fireplaces',\n",
       "       'GarageYrBlt', 'GarageCars', 'WoodDeckSF', 'OpenPorchSF', 'ScreenPorch',\n",
       "       'SaleCondition', 'TotalArea', 'LastRemodling', 'BuiltPercentage',\n",
       "       'DiffBuitSold'],\n",
       "      dtype='object')"
      ]
     },
     "execution_count": 25,
     "metadata": {},
     "output_type": "execute_result"
    }
   ],
   "source": [
    "selected"
   ]
  },
  {
   "cell_type": "code",
   "execution_count": 419,
   "metadata": {},
   "outputs": [
    {
     "data": {
      "text/plain": [
       "(39,)"
      ]
     },
     "execution_count": 419,
     "metadata": {},
     "output_type": "execute_result"
    }
   ],
   "source": [
    "selected.shape"
   ]
  },
  {
   "cell_type": "code",
   "execution_count": null,
   "metadata": {},
   "outputs": [],
   "source": []
  },
  {
   "cell_type": "code",
   "execution_count": null,
   "metadata": {},
   "outputs": [],
   "source": []
  },
  {
   "cell_type": "markdown",
   "metadata": {},
   "source": [
    "# Neural netwroks"
   ]
  },
  {
   "cell_type": "code",
   "execution_count": 140,
   "metadata": {},
   "outputs": [],
   "source": [
    "from keras.models import Sequential\n",
    "from keras.layers import Dense\n",
    "from keras.wrappers.scikit_learn import KerasRegressor\n",
    "from sklearn.model_selection import cross_val_score\n",
    "from sklearn.model_selection import KFold\n",
    "from sklearn.preprocessing import StandardScaler\n",
    "from sklearn.pipeline import Pipeline\n",
    "import tensorflow as tf\n",
    "from tensorflow.keras.layers import LayerNormalization\n",
    "from keras.regularizers import l2\n",
    "from keras.optimizers import Adam"
   ]
  },
  {
   "cell_type": "code",
   "execution_count": 106,
   "metadata": {},
   "outputs": [],
   "source": [
    "X = train.copy().fillna(-1)\n",
    "y = np.log(X.pop(target))"
   ]
  },
  {
   "cell_type": "code",
   "execution_count": 248,
   "metadata": {},
   "outputs": [],
   "source": [
    "def build_model(input_dim):\n",
    "    initializer = tf.keras.initializers.GlorotNormal()\n",
    "    model = Sequential()\n",
    "#     model.add(Dense(256, input_dim=input_dim, kernel_initializer=initializer, activation='relu', kernel_regularizer=l2(0.2), bias_regularizer=l2(0.2)))\n",
    "#     model.add(LayerNormalization())\n",
    "    model.add(Dense(128, kernel_initializer=initializer, activation='relu', kernel_regularizer=l2(0.4), bias_regularizer=l2(0.4)))\n",
    "    model.add(LayerNormalization())\n",
    "    model.add(Dense(64, kernel_initializer=initializer, activation='relu', kernel_regularizer=l2(0.7), bias_regularizer=l2(0.7)))\n",
    "    model.add(LayerNormalization())\n",
    "    model.add(Dense(32, kernel_initializer=initializer, activation='relu', kernel_regularizer=l2(0.2), bias_regularizer=l2(0.2)))\n",
    "    model.add(LayerNormalization())\n",
    "    model.add(Dense(16, kernel_initializer=initializer, activation='relu', kernel_regularizer=l2(0.1), bias_regularizer=l2(0.1)))\n",
    "    model.add(LayerNormalization())\n",
    "    model.add(Dense(8, kernel_initializer=initializer, activation='relu', kernel_regularizer=l2(0.1), bias_regularizer=l2(0.1)))\n",
    "    model.add(LayerNormalization())\n",
    "    model.add(Dense(4, kernel_initializer=initializer, activation='relu'))\n",
    "    model.add(LayerNormalization())\n",
    "    model.add(Dense(1, kernel_initializer=initializer))\n",
    "    opt = Adam()\n",
    "    model.compile(loss='mean_squared_error', optimizer=opt, metrics=[_rmse])\n",
    "    return model\n",
    "\n"
   ]
  },
  {
   "cell_type": "code",
   "execution_count": 252,
   "metadata": {
    "scrolled": true
   },
   "outputs": [
    {
     "name": "stderr",
     "output_type": "stream",
     "text": [
      "/home/amine/miniconda3/envs/dev/lib/python3.8/site-packages/category_encoders/utils.py:21: FutureWarning: is_categorical is deprecated and will be removed in a future version.  Use is_categorical_dtype instead\n",
      "  elif pd.api.types.is_categorical(cols):\n"
     ]
    },
    {
     "data": {
      "text/plain": [
       "(0.12101464861474356, 0.16559100446974737)"
      ]
     },
     "execution_count": 252,
     "metadata": {},
     "output_type": "execute_result"
    }
   ],
   "source": [
    "X_train, X_test, Y_train, Y_test = train_test_split(X, y,  test_size=0.2)\n",
    "mean, std = Y_train.mean(), Y_train.std()\n",
    "Y_train_scaled, Y_test_scaled = (Y_train - mean) / std, (Y_test - mean) / std\n",
    "\n",
    "encoder = ce.TargetEncoder(cols=categorical + boolean).fit(X_train, Y_train_scaled)\n",
    "X_train, X_test = encoder.transform(X_train, Y_train_scaled).astype(float), encoder.transform(X_test, Y_test_scaled).astype(float)\n",
    "\n",
    "scaler = StandardScaler().fit(X_train)\n",
    "X_train, X_test = scaler.transform(X_train), scaler.transform(X_test)\n",
    "model = build_model(X_train.shape[1])\n",
    "model.fit(X_train, Y_train_scaled, epochs=100, verbose=0, batch_size=128, validation_data=(X_test, Y_test_scaled))\n",
    "\n",
    "# Y_train, Y_test = Y_train * std + mean, Y_test * std + mean\n",
    "rmse()"
   ]
  },
  {
   "cell_type": "code",
   "execution_count": 187,
   "metadata": {},
   "outputs": [],
   "source": [
    "def _rmse(pred, true):\n",
    "    mse = tf.keras.losses.mean_squared_error(pred, true)\n",
    "    return tf.keras.backend.sqrt(mse)"
   ]
  },
  {
   "cell_type": "code",
   "execution_count": 212,
   "metadata": {},
   "outputs": [],
   "source": [
    "def rmse(selected=False):\n",
    "    if selected:\n",
    "        train_pred, test_pred  = model.predict(X_train[selected]) * std + mean, model.predict(X_test[selected]) * std + mean\n",
    "    else:\n",
    "        train_pred, test_pred  = model.predict(X_train) * std + mean, model.predict(X_test) * std + mean\n",
    "        \n",
    "    train_mse, test_mse = mean_squared_error(train_pred, Y_train), mean_squared_error(test_pred, Y_test), \n",
    "    return np.sqrt(train_mse), np.sqrt(test_mse) "
   ]
  },
  {
   "cell_type": "code",
   "execution_count": null,
   "metadata": {},
   "outputs": [],
   "source": []
  }
 ],
 "metadata": {
  "kernelspec": {
   "display_name": "dev",
   "language": "python",
   "name": "dev"
  },
  "language_info": {
   "codemirror_mode": {
    "name": "ipython",
    "version": 3
   },
   "file_extension": ".py",
   "mimetype": "text/x-python",
   "name": "python",
   "nbconvert_exporter": "python",
   "pygments_lexer": "ipython3",
   "version": "3.8.5"
  }
 },
 "nbformat": 4,
 "nbformat_minor": 4
}
