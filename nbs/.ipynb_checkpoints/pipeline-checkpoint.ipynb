{
 "cells": [
  {
   "cell_type": "code",
   "execution_count": 1,
   "metadata": {},
   "outputs": [
    {
     "data": {
      "application/javascript": [
       "\n",
       "            setTimeout(function() {\n",
       "                var nbb_cell_id = 1;\n",
       "                var nbb_unformatted_code = \"import pandas as pd\\nimport seaborn as sns\\nimport numpy as np\\nimport matplotlib.pyplot as plt\\n\\n# import sklearn as sk\\nimport category_encoders as ce\\nfrom sklearn.ensemble import RandomForestRegressor\\nfrom sklearn.metrics import mean_squared_error\\nfrom sklearn.feature_selection import SelectKBest\\nfrom sklearn.model_selection import (\\n    ShuffleSplit,\\n    cross_val_score,\\n    train_test_split,\\n)\\nfrom sklearn.pipeline import Pipeline\\nfrom sklearn.preprocessing import RobustScaler, PowerTransformer\\nfrom sklearn.impute import SimpleImputer, MissingIndicator\\nfrom xgboost.sklearn import XGBRegressor\\nfrom sklearn.compose import ColumnTransformer\\nfrom sklearn.model_selection import GridSearchCV\\n\\nimport sys\\n\\nsys.path.insert(0, \\\"/home/amine/house-prices/helpers\\\")\\n\\nfrom transformers.ContinuousFeaturesImputer import ContinuousFeaturesImputer\\nfrom transformers.RareCategoriesImputer import RareCategoriesImputer\\nfrom transformers.Imputer import Imputer\\n\\n%load_ext nb_black\";\n",
       "                var nbb_formatted_code = \"import pandas as pd\\nimport seaborn as sns\\nimport numpy as np\\nimport matplotlib.pyplot as plt\\n\\n# import sklearn as sk\\nimport category_encoders as ce\\nfrom sklearn.ensemble import RandomForestRegressor\\nfrom sklearn.metrics import mean_squared_error\\nfrom sklearn.feature_selection import SelectKBest\\nfrom sklearn.model_selection import (\\n    ShuffleSplit,\\n    cross_val_score,\\n    train_test_split,\\n)\\nfrom sklearn.pipeline import Pipeline\\nfrom sklearn.preprocessing import RobustScaler, PowerTransformer\\nfrom sklearn.impute import SimpleImputer, MissingIndicator\\nfrom xgboost.sklearn import XGBRegressor\\nfrom sklearn.compose import ColumnTransformer\\nfrom sklearn.model_selection import GridSearchCV\\n\\nimport sys\\n\\nsys.path.insert(0, \\\"/home/amine/house-prices/helpers\\\")\\n\\nfrom transformers.ContinuousFeaturesImputer import ContinuousFeaturesImputer\\nfrom transformers.RareCategoriesImputer import RareCategoriesImputer\\nfrom transformers.Imputer import Imputer\\n\\n%load_ext nb_black\";\n",
       "                var nbb_cells = Jupyter.notebook.get_cells();\n",
       "                for (var i = 0; i < nbb_cells.length; ++i) {\n",
       "                    if (nbb_cells[i].input_prompt_number == nbb_cell_id) {\n",
       "                        if (nbb_cells[i].get_text() == nbb_unformatted_code) {\n",
       "                             nbb_cells[i].set_text(nbb_formatted_code);\n",
       "                        }\n",
       "                        break;\n",
       "                    }\n",
       "                }\n",
       "            }, 500);\n",
       "            "
      ],
      "text/plain": [
       "<IPython.core.display.Javascript object>"
      ]
     },
     "metadata": {},
     "output_type": "display_data"
    }
   ],
   "source": [
    "import pandas as pd\n",
    "import seaborn as sns\n",
    "import numpy as np\n",
    "import matplotlib.pyplot as plt\n",
    "\n",
    "# import sklearn as sk\n",
    "import category_encoders as ce\n",
    "from sklearn.ensemble import RandomForestRegressor\n",
    "from sklearn.metrics import mean_squared_error\n",
    "from sklearn.feature_selection import SelectKBest\n",
    "from sklearn.model_selection import (\n",
    "    ShuffleSplit,\n",
    "    cross_val_score,\n",
    "    train_test_split,\n",
    ")\n",
    "from sklearn.pipeline import Pipeline\n",
    "from sklearn.preprocessing import RobustScaler, PowerTransformer\n",
    "from sklearn.impute import SimpleImputer, MissingIndicator\n",
    "from xgboost.sklearn import XGBRegressor\n",
    "from sklearn.compose import ColumnTransformer\n",
    "from sklearn.model_selection import GridSearchCV\n",
    "\n",
    "import sys\n",
    "\n",
    "sys.path.insert(0, \"/home/amine/house-prices/helpers\")\n",
    "\n",
    "from transformers.ContinuousFeaturesImputer import ContinuousFeaturesImputer\n",
    "from transformers.RareCategoriesImputer import RareCategoriesImputer\n",
    "from transformers.Imputer import Imputer\n",
    "\n",
    "%load_ext nb_black"
   ]
  },
  {
   "cell_type": "code",
   "execution_count": 2,
   "metadata": {},
   "outputs": [
    {
     "data": {
      "application/javascript": [
       "\n",
       "            setTimeout(function() {\n",
       "                var nbb_cell_id = 2;\n",
       "                var nbb_unformatted_code = \"train_raw, test_raw = (\\n    pd.read_csv(\\\"~/Downloads/house-pricing/train.csv\\\"),\\n    pd.read_csv(\\\"~/Downloads/house-pricing/test.csv\\\"),\\n)\";\n",
       "                var nbb_formatted_code = \"train_raw, test_raw = (\\n    pd.read_csv(\\\"~/Downloads/house-pricing/train.csv\\\"),\\n    pd.read_csv(\\\"~/Downloads/house-pricing/test.csv\\\"),\\n)\";\n",
       "                var nbb_cells = Jupyter.notebook.get_cells();\n",
       "                for (var i = 0; i < nbb_cells.length; ++i) {\n",
       "                    if (nbb_cells[i].input_prompt_number == nbb_cell_id) {\n",
       "                        if (nbb_cells[i].get_text() == nbb_unformatted_code) {\n",
       "                             nbb_cells[i].set_text(nbb_formatted_code);\n",
       "                        }\n",
       "                        break;\n",
       "                    }\n",
       "                }\n",
       "            }, 500);\n",
       "            "
      ],
      "text/plain": [
       "<IPython.core.display.Javascript object>"
      ]
     },
     "metadata": {},
     "output_type": "display_data"
    }
   ],
   "source": [
    "train_raw, test_raw = (\n",
    "    pd.read_csv(\"~/Downloads/house-pricing/train.csv\"),\n",
    "    pd.read_csv(\"~/Downloads/house-pricing/test.csv\"),\n",
    ")"
   ]
  },
  {
   "cell_type": "code",
   "execution_count": 3,
   "metadata": {},
   "outputs": [
    {
     "data": {
      "application/javascript": [
       "\n",
       "            setTimeout(function() {\n",
       "                var nbb_cell_id = 3;\n",
       "                var nbb_unformatted_code = \"\\n# Street, Utilities, Condition2, RoofMatl: bad repartition\\n# Alley, PoolQC: most are missing\\n\\n\\n# MasVnrArea, BsmtFinSF1, 2ndFlrSF, LowQualFinSF, PoolArea: Had a lot of 0.0\\ndate_related = ['GarageYrBlt', 'MoSold', 'YrSold']\\nboolean = ['CentralAir']\\ntarget = 'SalePrice'\\nto_drop = ['Id', 'PoolArea', 'PoolQC', 'YearBuilt', 'YearRemodAdd']\\n\\nnumerical = ['LotFrontage', 'LotArea', 'MasVnrArea', 'BsmtFinSF1', 'BsmtFinSF2', 'BsmtUnfSF', 'TotalBsmtSF', '1stFlrSF', '2ndFlrSF', 'LowQualFinSF', 'GrLivArea',\\n             'BsmtFullBath', 'BsmtHalfBath', 'FullBath', 'HalfBath', 'BedroomAbvGr', 'KitchenAbvGr', 'TotRmsAbvGrd', 'Fireplaces', 'GarageCars', 'GarageArea', 'WoodDeckSF',\\n             'OpenPorchSF', 'EnclosedPorch', '3SsnPorch', 'ScreenPorch', 'MiscVal', 'OverallCond', 'OverallQual'] + date_related\\ncategorical = ['MSSubClass', 'MSZoning', 'Street', 'Alley', 'LotShape', 'LandContour', 'Utilities', 'LotConfig', 'LandSlope', 'Neighborhood', 'Condition1', 'Condition2',\\n              'BldgType', 'HouseStyle', 'RoofStyle', 'RoofMatl', 'Exterior1st', 'Exterior2nd', 'MasVnrType', 'ExterQual', 'ExterCond', 'Foundation',\\n              'BsmtQual', 'BsmtCond', 'BsmtExposure', 'BsmtFinType1', 'BsmtFinType2', 'Heating', 'HeatingQC', 'Electrical', 'KitchenQual', 'Functional', 'FireplaceQu',\\n              'GarageType', 'GarageFinish', 'GarageQual', 'GarageCond', 'PavedDrive', 'Fence', 'MiscFeature', 'SaleType', 'SaleCondition']  + boolean\\n\\nassert len(categorical )+ len(numerical) + len(to_drop) + 1 == train_raw.shape[1]\\nassert set(categorical + numerical + date_related + boolean + [target] + to_drop) == set(train_raw.columns)\";\n",
       "                var nbb_formatted_code = \"# Street, Utilities, Condition2, RoofMatl: bad repartition\\n# Alley, PoolQC: most are missing\\n\\n\\n# MasVnrArea, BsmtFinSF1, 2ndFlrSF, LowQualFinSF, PoolArea: Had a lot of 0.0\\ndate_related = [\\\"GarageYrBlt\\\", \\\"MoSold\\\", \\\"YrSold\\\"]\\nboolean = [\\\"CentralAir\\\"]\\ntarget = \\\"SalePrice\\\"\\nto_drop = [\\\"Id\\\", \\\"PoolArea\\\", \\\"PoolQC\\\", \\\"YearBuilt\\\", \\\"YearRemodAdd\\\"]\\n\\nnumerical = [\\n    \\\"LotFrontage\\\",\\n    \\\"LotArea\\\",\\n    \\\"MasVnrArea\\\",\\n    \\\"BsmtFinSF1\\\",\\n    \\\"BsmtFinSF2\\\",\\n    \\\"BsmtUnfSF\\\",\\n    \\\"TotalBsmtSF\\\",\\n    \\\"1stFlrSF\\\",\\n    \\\"2ndFlrSF\\\",\\n    \\\"LowQualFinSF\\\",\\n    \\\"GrLivArea\\\",\\n    \\\"BsmtFullBath\\\",\\n    \\\"BsmtHalfBath\\\",\\n    \\\"FullBath\\\",\\n    \\\"HalfBath\\\",\\n    \\\"BedroomAbvGr\\\",\\n    \\\"KitchenAbvGr\\\",\\n    \\\"TotRmsAbvGrd\\\",\\n    \\\"Fireplaces\\\",\\n    \\\"GarageCars\\\",\\n    \\\"GarageArea\\\",\\n    \\\"WoodDeckSF\\\",\\n    \\\"OpenPorchSF\\\",\\n    \\\"EnclosedPorch\\\",\\n    \\\"3SsnPorch\\\",\\n    \\\"ScreenPorch\\\",\\n    \\\"MiscVal\\\",\\n    \\\"OverallCond\\\",\\n    \\\"OverallQual\\\",\\n] + date_related\\ncategorical = [\\n    \\\"MSSubClass\\\",\\n    \\\"MSZoning\\\",\\n    \\\"Street\\\",\\n    \\\"Alley\\\",\\n    \\\"LotShape\\\",\\n    \\\"LandContour\\\",\\n    \\\"Utilities\\\",\\n    \\\"LotConfig\\\",\\n    \\\"LandSlope\\\",\\n    \\\"Neighborhood\\\",\\n    \\\"Condition1\\\",\\n    \\\"Condition2\\\",\\n    \\\"BldgType\\\",\\n    \\\"HouseStyle\\\",\\n    \\\"RoofStyle\\\",\\n    \\\"RoofMatl\\\",\\n    \\\"Exterior1st\\\",\\n    \\\"Exterior2nd\\\",\\n    \\\"MasVnrType\\\",\\n    \\\"ExterQual\\\",\\n    \\\"ExterCond\\\",\\n    \\\"Foundation\\\",\\n    \\\"BsmtQual\\\",\\n    \\\"BsmtCond\\\",\\n    \\\"BsmtExposure\\\",\\n    \\\"BsmtFinType1\\\",\\n    \\\"BsmtFinType2\\\",\\n    \\\"Heating\\\",\\n    \\\"HeatingQC\\\",\\n    \\\"Electrical\\\",\\n    \\\"KitchenQual\\\",\\n    \\\"Functional\\\",\\n    \\\"FireplaceQu\\\",\\n    \\\"GarageType\\\",\\n    \\\"GarageFinish\\\",\\n    \\\"GarageQual\\\",\\n    \\\"GarageCond\\\",\\n    \\\"PavedDrive\\\",\\n    \\\"Fence\\\",\\n    \\\"MiscFeature\\\",\\n    \\\"SaleType\\\",\\n    \\\"SaleCondition\\\",\\n] + boolean\\n\\nassert len(categorical) + len(numerical) + len(to_drop) + 1 == train_raw.shape[1]\\nassert set(\\n    categorical + numerical + date_related + boolean + [target] + to_drop\\n) == set(train_raw.columns)\";\n",
       "                var nbb_cells = Jupyter.notebook.get_cells();\n",
       "                for (var i = 0; i < nbb_cells.length; ++i) {\n",
       "                    if (nbb_cells[i].input_prompt_number == nbb_cell_id) {\n",
       "                        if (nbb_cells[i].get_text() == nbb_unformatted_code) {\n",
       "                             nbb_cells[i].set_text(nbb_formatted_code);\n",
       "                        }\n",
       "                        break;\n",
       "                    }\n",
       "                }\n",
       "            }, 500);\n",
       "            "
      ],
      "text/plain": [
       "<IPython.core.display.Javascript object>"
      ]
     },
     "metadata": {},
     "output_type": "display_data"
    }
   ],
   "source": [
    "\n",
    "# Street, Utilities, Condition2, RoofMatl: bad repartition\n",
    "# Alley, PoolQC: most are missing\n",
    "\n",
    "\n",
    "# MasVnrArea, BsmtFinSF1, 2ndFlrSF, LowQualFinSF, PoolArea: Had a lot of 0.0\n",
    "date_related = ['GarageYrBlt', 'MoSold', 'YrSold']\n",
    "boolean = ['CentralAir']\n",
    "target = 'SalePrice'\n",
    "to_drop = ['Id', 'PoolArea', 'PoolQC', 'YearBuilt', 'YearRemodAdd']\n",
    "\n",
    "numerical = ['LotFrontage', 'LotArea', 'MasVnrArea', 'BsmtFinSF1', 'BsmtFinSF2', 'BsmtUnfSF', 'TotalBsmtSF', '1stFlrSF', '2ndFlrSF', 'LowQualFinSF', 'GrLivArea',\n",
    "             'BsmtFullBath', 'BsmtHalfBath', 'FullBath', 'HalfBath', 'BedroomAbvGr', 'KitchenAbvGr', 'TotRmsAbvGrd', 'Fireplaces', 'GarageCars', 'GarageArea', 'WoodDeckSF',\n",
    "             'OpenPorchSF', 'EnclosedPorch', '3SsnPorch', 'ScreenPorch', 'MiscVal', 'OverallCond', 'OverallQual'] + date_related\n",
    "categorical = ['MSSubClass', 'MSZoning', 'Street', 'Alley', 'LotShape', 'LandContour', 'Utilities', 'LotConfig', 'LandSlope', 'Neighborhood', 'Condition1', 'Condition2',\n",
    "              'BldgType', 'HouseStyle', 'RoofStyle', 'RoofMatl', 'Exterior1st', 'Exterior2nd', 'MasVnrType', 'ExterQual', 'ExterCond', 'Foundation',\n",
    "              'BsmtQual', 'BsmtCond', 'BsmtExposure', 'BsmtFinType1', 'BsmtFinType2', 'Heating', 'HeatingQC', 'Electrical', 'KitchenQual', 'Functional', 'FireplaceQu',\n",
    "              'GarageType', 'GarageFinish', 'GarageQual', 'GarageCond', 'PavedDrive', 'Fence', 'MiscFeature', 'SaleType', 'SaleCondition']  + boolean\n",
    "\n",
    "assert len(categorical )+ len(numerical) + len(to_drop) + 1 == train_raw.shape[1]\n",
    "assert set(categorical + numerical + date_related + boolean + [target] + to_drop) == set(train_raw.columns)\n",
    "\n"
   ]
  },
  {
   "cell_type": "code",
   "execution_count": 4,
   "metadata": {},
   "outputs": [
    {
     "data": {
      "application/javascript": [
       "\n",
       "            setTimeout(function() {\n",
       "                var nbb_cell_id = 4;\n",
       "                var nbb_unformatted_code = \"train = train_raw.copy()\\ntrain[\\\"LivibleRatio\\\"] = train[\\\"1stFlrSF\\\"] / train[\\\"LotArea\\\"]\\ntrain[\\\"HasMasVnr\\\"] = train[\\\"MasVnrArea\\\"] == 0\\ntrain[\\\"BuildingAge\\\"] = 2020 - train[\\\"YearBuilt\\\"]\\ntrain[\\\"LastRemodling\\\"] = 2020 - train[\\\"YearRemodAdd\\\"]\\ntrain[\\\"HasPool\\\"] = train[\\\"PoolArea\\\"] > 0\\ntrain[\\\"BuiltPercentage\\\"] = train[\\\"1stFlrSF\\\"] / train[\\\"LotArea\\\"]\\ntrain[\\\"DiffBuitSold\\\"] = train[\\\"YearBuilt\\\"] - train[\\\"YrSold\\\"]\\ntrain[\\\"AvrRoomSF\\\"] = train[\\\"TotRmsAbvGrd\\\"] / (\\n    train[\\\"1stFlrSF\\\"] + train[\\\"2ndFlrSF\\\"]\\n)\\ntrain[\\\"2ndfloorPercentage\\\"] = train[\\\"2ndFlrSF\\\"] / train[\\\"1stFlrSF\\\"]\\ntrain[\\\"HasBasment\\\"] = train[\\\"TotalBsmtSF\\\"] > 0\\ntrain[\\\"DiffRemodBuilt\\\"] = train[\\\"YearRemodAdd\\\"] - train[\\\"YearBuilt\\\"]\\n\\ntest = test_raw.copy()\\ntest[\\\"LivibleRatio\\\"] = test[\\\"1stFlrSF\\\"] / test[\\\"LotArea\\\"]\\ntest[\\\"HasMasVnr\\\"] = test[\\\"MasVnrArea\\\"] == 0\\ntest[\\\"BuildingAge\\\"] = 2020 - test[\\\"YearBuilt\\\"]\\ntest[\\\"LastRemodling\\\"] = 2020 - test[\\\"YearRemodAdd\\\"]\\ntest[\\\"HasPool\\\"] = test[\\\"PoolArea\\\"] > 0\\ntest[\\\"BuiltPercentage\\\"] = test[\\\"1stFlrSF\\\"] / test[\\\"LotArea\\\"]\\ntest[\\\"DiffBuitSold\\\"] = test[\\\"YearBuilt\\\"] - test[\\\"YrSold\\\"]\\ntest[\\\"AvrRoomSF\\\"] = test[\\\"TotRmsAbvGrd\\\"] / (\\n    test[\\\"1stFlrSF\\\"] + test[\\\"2ndFlrSF\\\"]\\n)\\ntest[\\\"2ndfloorPercentage\\\"] = test[\\\"2ndFlrSF\\\"] / test[\\\"1stFlrSF\\\"]\\ntest[\\\"HasBasment\\\"] = test[\\\"TotalBsmtSF\\\"] > 0\\ntest[\\\"DiffRemodBuilt\\\"] = test[\\\"YearRemodAdd\\\"] - test[\\\"YearBuilt\\\"]\\n\\n\\nengineered = [\\n    \\\"TotalArea\\\",\\n    \\\"LivibleRatio\\\",\\n    \\\"HasMasVnr\\\",\\n    \\\"BuildingAge\\\",\\n    \\\"LastRemodling\\\",\\n    \\\"HasPool\\\",\\n    \\\"BuiltPercentage\\\",\\n    \\\"DiffBuitSold\\\",\\n    \\\"AvrRoomSF\\\",\\n    \\\"2ndfloorPercentage\\\",\\n    \\\"HasBasment\\\",\\n    \\\"DiffRemodBuilt\\\",\\n]\\n\\nto_normalize = [\\n    \\\"DiffBuitSold\\\",\\n    \\\"BuildingAge\\\",\\n    \\\"LastRemodling\\\",\\n    \\\"DiffRemodBuilt\\\",\\n]\\ntrain = train.drop(columns=to_drop, axis=1)\\ntest = test.drop(columns=to_drop, axis=1)\\n\\n\\ndiscrete = []\\nfor var in numerical:\\n    if len(train[var].unique()) < 20:\\n        discrete.append(var)\\n\\n\\ncontinuous = [\\n    var\\n    for var in numerical\\n    if var not in discrete and var not in [\\\"Id\\\", \\\"SalePrice\\\"]\\n]\";\n",
       "                var nbb_formatted_code = \"train = train_raw.copy()\\ntrain[\\\"LivibleRatio\\\"] = train[\\\"1stFlrSF\\\"] / train[\\\"LotArea\\\"]\\ntrain[\\\"HasMasVnr\\\"] = train[\\\"MasVnrArea\\\"] == 0\\ntrain[\\\"BuildingAge\\\"] = 2020 - train[\\\"YearBuilt\\\"]\\ntrain[\\\"LastRemodling\\\"] = 2020 - train[\\\"YearRemodAdd\\\"]\\ntrain[\\\"HasPool\\\"] = train[\\\"PoolArea\\\"] > 0\\ntrain[\\\"BuiltPercentage\\\"] = train[\\\"1stFlrSF\\\"] / train[\\\"LotArea\\\"]\\ntrain[\\\"DiffBuitSold\\\"] = train[\\\"YearBuilt\\\"] - train[\\\"YrSold\\\"]\\ntrain[\\\"AvrRoomSF\\\"] = train[\\\"TotRmsAbvGrd\\\"] / (train[\\\"1stFlrSF\\\"] + train[\\\"2ndFlrSF\\\"])\\ntrain[\\\"2ndfloorPercentage\\\"] = train[\\\"2ndFlrSF\\\"] / train[\\\"1stFlrSF\\\"]\\ntrain[\\\"HasBasment\\\"] = train[\\\"TotalBsmtSF\\\"] > 0\\ntrain[\\\"DiffRemodBuilt\\\"] = train[\\\"YearRemodAdd\\\"] - train[\\\"YearBuilt\\\"]\\n\\ntest = test_raw.copy()\\ntest[\\\"LivibleRatio\\\"] = test[\\\"1stFlrSF\\\"] / test[\\\"LotArea\\\"]\\ntest[\\\"HasMasVnr\\\"] = test[\\\"MasVnrArea\\\"] == 0\\ntest[\\\"BuildingAge\\\"] = 2020 - test[\\\"YearBuilt\\\"]\\ntest[\\\"LastRemodling\\\"] = 2020 - test[\\\"YearRemodAdd\\\"]\\ntest[\\\"HasPool\\\"] = test[\\\"PoolArea\\\"] > 0\\ntest[\\\"BuiltPercentage\\\"] = test[\\\"1stFlrSF\\\"] / test[\\\"LotArea\\\"]\\ntest[\\\"DiffBuitSold\\\"] = test[\\\"YearBuilt\\\"] - test[\\\"YrSold\\\"]\\ntest[\\\"AvrRoomSF\\\"] = test[\\\"TotRmsAbvGrd\\\"] / (test[\\\"1stFlrSF\\\"] + test[\\\"2ndFlrSF\\\"])\\ntest[\\\"2ndfloorPercentage\\\"] = test[\\\"2ndFlrSF\\\"] / test[\\\"1stFlrSF\\\"]\\ntest[\\\"HasBasment\\\"] = test[\\\"TotalBsmtSF\\\"] > 0\\ntest[\\\"DiffRemodBuilt\\\"] = test[\\\"YearRemodAdd\\\"] - test[\\\"YearBuilt\\\"]\\n\\n\\nengineered = [\\n    \\\"TotalArea\\\",\\n    \\\"LivibleRatio\\\",\\n    \\\"HasMasVnr\\\",\\n    \\\"BuildingAge\\\",\\n    \\\"LastRemodling\\\",\\n    \\\"HasPool\\\",\\n    \\\"BuiltPercentage\\\",\\n    \\\"DiffBuitSold\\\",\\n    \\\"AvrRoomSF\\\",\\n    \\\"2ndfloorPercentage\\\",\\n    \\\"HasBasment\\\",\\n    \\\"DiffRemodBuilt\\\",\\n]\\n\\nto_normalize = [\\n    \\\"DiffBuitSold\\\",\\n    \\\"BuildingAge\\\",\\n    \\\"LastRemodling\\\",\\n    \\\"DiffRemodBuilt\\\",\\n]\\ntrain = train.drop(columns=to_drop, axis=1)\\ntest = test.drop(columns=to_drop, axis=1)\\n\\n\\ndiscrete = []\\nfor var in numerical:\\n    if len(train[var].unique()) < 20:\\n        discrete.append(var)\\n\\n\\ncontinuous = [\\n    var for var in numerical if var not in discrete and var not in [\\\"Id\\\", \\\"SalePrice\\\"]\\n]\";\n",
       "                var nbb_cells = Jupyter.notebook.get_cells();\n",
       "                for (var i = 0; i < nbb_cells.length; ++i) {\n",
       "                    if (nbb_cells[i].input_prompt_number == nbb_cell_id) {\n",
       "                        if (nbb_cells[i].get_text() == nbb_unformatted_code) {\n",
       "                             nbb_cells[i].set_text(nbb_formatted_code);\n",
       "                        }\n",
       "                        break;\n",
       "                    }\n",
       "                }\n",
       "            }, 500);\n",
       "            "
      ],
      "text/plain": [
       "<IPython.core.display.Javascript object>"
      ]
     },
     "metadata": {},
     "output_type": "display_data"
    }
   ],
   "source": [
    "train = train_raw.copy()\n",
    "train[\"LivibleRatio\"] = train[\"1stFlrSF\"] / train[\"LotArea\"]\n",
    "train[\"HasMasVnr\"] = train[\"MasVnrArea\"] == 0\n",
    "train[\"BuildingAge\"] = 2020 - train[\"YearBuilt\"]\n",
    "train[\"LastRemodling\"] = 2020 - train[\"YearRemodAdd\"]\n",
    "train[\"HasPool\"] = train[\"PoolArea\"] > 0\n",
    "train[\"BuiltPercentage\"] = train[\"1stFlrSF\"] / train[\"LotArea\"]\n",
    "train[\"DiffBuitSold\"] = train[\"YearBuilt\"] - train[\"YrSold\"]\n",
    "train[\"AvrRoomSF\"] = train[\"TotRmsAbvGrd\"] / (\n",
    "    train[\"1stFlrSF\"] + train[\"2ndFlrSF\"]\n",
    ")\n",
    "train[\"2ndfloorPercentage\"] = train[\"2ndFlrSF\"] / train[\"1stFlrSF\"]\n",
    "train[\"HasBasment\"] = train[\"TotalBsmtSF\"] > 0\n",
    "train[\"DiffRemodBuilt\"] = train[\"YearRemodAdd\"] - train[\"YearBuilt\"]\n",
    "\n",
    "test = test_raw.copy()\n",
    "test[\"LivibleRatio\"] = test[\"1stFlrSF\"] / test[\"LotArea\"]\n",
    "test[\"HasMasVnr\"] = test[\"MasVnrArea\"] == 0\n",
    "test[\"BuildingAge\"] = 2020 - test[\"YearBuilt\"]\n",
    "test[\"LastRemodling\"] = 2020 - test[\"YearRemodAdd\"]\n",
    "test[\"HasPool\"] = test[\"PoolArea\"] > 0\n",
    "test[\"BuiltPercentage\"] = test[\"1stFlrSF\"] / test[\"LotArea\"]\n",
    "test[\"DiffBuitSold\"] = test[\"YearBuilt\"] - test[\"YrSold\"]\n",
    "test[\"AvrRoomSF\"] = test[\"TotRmsAbvGrd\"] / (\n",
    "    test[\"1stFlrSF\"] + test[\"2ndFlrSF\"]\n",
    ")\n",
    "test[\"2ndfloorPercentage\"] = test[\"2ndFlrSF\"] / test[\"1stFlrSF\"]\n",
    "test[\"HasBasment\"] = test[\"TotalBsmtSF\"] > 0\n",
    "test[\"DiffRemodBuilt\"] = test[\"YearRemodAdd\"] - test[\"YearBuilt\"]\n",
    "\n",
    "train = train.drop(columns=to_drop, axis=1)\n",
    "test = test.drop(columns=to_drop, axis=1)\n",
    "\n",
    "\n",
    "discrete = []\n",
    "for var in numerical:\n",
    "    if len(train[var].unique()) < 20:\n",
    "        discrete.append(var)\n",
    "\n",
    "\n",
    "continuous = [\n",
    "    var\n",
    "    for var in numerical\n",
    "    if var not in discrete and var not in [\"Id\", \"SalePrice\"]\n",
    "]"
   ]
  },
  {
   "cell_type": "code",
   "execution_count": 102,
   "metadata": {},
   "outputs": [
    {
     "data": {
      "application/javascript": [
       "\n",
       "            setTimeout(function() {\n",
       "                var nbb_cell_id = 102;\n",
       "                var nbb_unformatted_code = \"\\nX = train.copy()\\ny = np.log(X.pop(target))\\n\\nprice_filter = (y > 11.5) & (y < 12.5)\\n\\n# X = X[price_filter]\\n# y = y[price_filter]\\n# X_train, X_test, y_train, y_test = train_test_split(\\n#     train, train.SalePrice, test_size=0.2, random_state=43\\n# )\\n# X_train.pop(target), X_test.pop(target)\\n\\n# y_train, y_test = np.log(y_train), np.log(y_test)\\n\\n# X_train = train.copy()\\n# y_train = np.log(X_train.pop(target))\\n\\n# X_test = test.copy()\";\n",
       "                var nbb_formatted_code = \"X = train.copy()\\ny = np.log(X.pop(target))\\n\\nprice_filter = (y > 11.5) & (y < 12.5)\\n\\n# X = X[price_filter]\\n# y = y[price_filter]\\n# X_train, X_test, y_train, y_test = train_test_split(\\n#     train, train.SalePrice, test_size=0.2, random_state=43\\n# )\\n# X_train.pop(target), X_test.pop(target)\\n\\n# y_train, y_test = np.log(y_train), np.log(y_test)\\n\\n# X_train = train.copy()\\n# y_train = np.log(X_train.pop(target))\\n\\n# X_test = test.copy()\";\n",
       "                var nbb_cells = Jupyter.notebook.get_cells();\n",
       "                for (var i = 0; i < nbb_cells.length; ++i) {\n",
       "                    if (nbb_cells[i].input_prompt_number == nbb_cell_id) {\n",
       "                        if (nbb_cells[i].get_text() == nbb_unformatted_code) {\n",
       "                             nbb_cells[i].set_text(nbb_formatted_code);\n",
       "                        }\n",
       "                        break;\n",
       "                    }\n",
       "                }\n",
       "            }, 500);\n",
       "            "
      ],
      "text/plain": [
       "<IPython.core.display.Javascript object>"
      ]
     },
     "metadata": {},
     "output_type": "display_data"
    }
   ],
   "source": [
    "\n",
    "X = train.copy()\n",
    "y = np.log(X.pop(target))\n",
    "\n",
    "price_filter = (y > 11.5) & (y < 12.5)\n",
    "\n",
    "# X = X[price_filter]\n",
    "# y = y[price_filter]\n",
    "# X_train, X_test, y_train, y_test = train_test_split(\n",
    "#     train, train.SalePrice, test_size=0.2, random_state=43\n",
    "# )\n",
    "# X_train.pop(target), X_test.pop(target)\n",
    "\n",
    "# y_train, y_test = np.log(y_train), np.log(y_test)\n",
    "\n",
    "# X_train = train.copy()\n",
    "# y_train = np.log(X_train.pop(target))\n",
    "\n",
    "# X_test = test.copy()"
   ]
  },
  {
   "cell_type": "code",
   "execution_count": 100,
   "metadata": {
    "jupyter": {
     "source_hidden": true
    }
   },
   "outputs": [
    {
     "data": {
      "application/javascript": [
       "\n",
       "            setTimeout(function() {\n",
       "                var nbb_cell_id = 100;\n",
       "                var nbb_unformatted_code = \"from sklearn.base import BaseEstimator, ClassifierMixin\\nclass model_class(BaseEstimator, ClassifierMixin):\\n    def __init__(self):\\n        self.median = {}\\n        self.rare = RareCategoriesImputer(threshold=0.01)\\n        self.encoder = ce.TargetEncoder(cols=categorical)\\n        self.cont_cleaner = ContinuousFeaturesImputer(drop_features=True, impute_zeros=True, create_is_0=True)\\n        self.scaler = RobustScaler()\\n\\n        param_dist = {'objective':'reg:squarederror', 'n_estimators':1_000, 'reg_lambda': 1, 'max_depth':1, 'colsample_bynode': 0.2}\\n        self._model = XGBRegressor(**param_dist)\\n        \\n    def fit(self, X, y):\\n        self.median = {}\\n        \\n        X = X.copy()\\n        \\n        for var in categorical:\\n            X[var].fillna('Missing', inplace=True)\\n        \\n        X[categorical] = self.rare.fit_transform(X[categorical])\\n        \\n        X = self.encoder.fit_transform(X, y)\\n        \\n        for var in ['LotFrontage', 'GarageYrBlt', 'MasVnrArea']:\\n            if var in X.columns:\\n                X[var+'_NA'] = np.where(X[var].isnull(), 1, 0)\\n                median = X[var].median()\\n                X[var].fillna(median, inplace=True) \\n                self.median[var] = median\\n        \\n        result = self.cont_cleaner.fit_transform(X[continuous])\\n        X[result.columns] = result\\n        \\n        X = self.scaler.fit_transform(X)\\n        \\n        self._model.fit(X, y)\\n        \\n        return self\\n    \\n    def predict(self, X):\\n        \\n        X = X.copy()\\n        \\n        for var in categorical:\\n            X[var].fillna('Missing', inplace=True)\\n        \\n        X[categorical] = self.rare.transform(X[categorical])\\n        \\n        X = self.encoder.transform(X)\\n        \\n        for var in ['LotFrontage', 'GarageYrBlt', 'MasVnrArea']:\\n            if var in X.columns:\\n\\n                X[var+'_NA'] = np.where(X[var].isnull(), 1, 0)\\n                X[var].fillna(self.median[var], inplace=True) \\n        \\n        result = self.cont_cleaner.transform(X[continuous])\\n        X[result.columns] = result\\n        \\n        X = self.scaler.transform(X)\\n        \\n        pred = self._model.predict(X)\\n        \\n        return pred\";\n",
       "                var nbb_formatted_code = \"from sklearn.base import BaseEstimator, ClassifierMixin\\n\\n\\nclass model_class(BaseEstimator, ClassifierMixin):\\n    def __init__(self):\\n        self.median = {}\\n        self.rare = RareCategoriesImputer(threshold=0.01)\\n        self.encoder = ce.TargetEncoder(cols=categorical)\\n        self.cont_cleaner = ContinuousFeaturesImputer(\\n            drop_features=True, impute_zeros=True, create_is_0=True\\n        )\\n        self.scaler = RobustScaler()\\n\\n        param_dist = {\\n            \\\"objective\\\": \\\"reg:squarederror\\\",\\n            \\\"n_estimators\\\": 1_000,\\n            \\\"reg_lambda\\\": 1,\\n            \\\"max_depth\\\": 1,\\n            \\\"colsample_bynode\\\": 0.2,\\n        }\\n        self._model = XGBRegressor(**param_dist)\\n\\n    def fit(self, X, y):\\n        self.median = {}\\n\\n        X = X.copy()\\n\\n        for var in categorical:\\n            X[var].fillna(\\\"Missing\\\", inplace=True)\\n\\n        X[categorical] = self.rare.fit_transform(X[categorical])\\n\\n        X = self.encoder.fit_transform(X, y)\\n\\n        for var in [\\\"LotFrontage\\\", \\\"GarageYrBlt\\\", \\\"MasVnrArea\\\"]:\\n            if var in X.columns:\\n                X[var + \\\"_NA\\\"] = np.where(X[var].isnull(), 1, 0)\\n                median = X[var].median()\\n                X[var].fillna(median, inplace=True)\\n                self.median[var] = median\\n\\n        result = self.cont_cleaner.fit_transform(X[continuous])\\n        X[result.columns] = result\\n\\n        X = self.scaler.fit_transform(X)\\n\\n        self._model.fit(X, y)\\n\\n        return self\\n\\n    def predict(self, X):\\n\\n        X = X.copy()\\n\\n        for var in categorical:\\n            X[var].fillna(\\\"Missing\\\", inplace=True)\\n\\n        X[categorical] = self.rare.transform(X[categorical])\\n\\n        X = self.encoder.transform(X)\\n\\n        for var in [\\\"LotFrontage\\\", \\\"GarageYrBlt\\\", \\\"MasVnrArea\\\"]:\\n            if var in X.columns:\\n\\n                X[var + \\\"_NA\\\"] = np.where(X[var].isnull(), 1, 0)\\n                X[var].fillna(self.median[var], inplace=True)\\n\\n        result = self.cont_cleaner.transform(X[continuous])\\n        X[result.columns] = result\\n\\n        X = self.scaler.transform(X)\\n\\n        pred = self._model.predict(X)\\n\\n        return pred\";\n",
       "                var nbb_cells = Jupyter.notebook.get_cells();\n",
       "                for (var i = 0; i < nbb_cells.length; ++i) {\n",
       "                    if (nbb_cells[i].input_prompt_number == nbb_cell_id) {\n",
       "                        if (nbb_cells[i].get_text() == nbb_unformatted_code) {\n",
       "                             nbb_cells[i].set_text(nbb_formatted_code);\n",
       "                        }\n",
       "                        break;\n",
       "                    }\n",
       "                }\n",
       "            }, 500);\n",
       "            "
      ],
      "text/plain": [
       "<IPython.core.display.Javascript object>"
      ]
     },
     "metadata": {},
     "output_type": "display_data"
    }
   ],
   "source": [
    "from sklearn.base import BaseEstimator, ClassifierMixin\n",
    "\n",
    "class mid_section_model(BaseEstimator, ClassifierMixin):\n",
    "    def __init__(self):\n",
    "        self.median = {}\n",
    "        self.rare = RareCategoriesImputer(threshold=0.01)\n",
    "        self.encoder = ce.TargetEncoder(cols=categorical)\n",
    "        self.cont_cleaner = ContinuousFeaturesImputer(drop_features=True, impute_zeros=True, create_is_0=True)\n",
    "        self.scaler = RobustScaler()\n",
    "\n",
    "        param_dist = {'objective':'reg:squarederror', 'n_estimators':1_000, 'reg_lambda': 1, 'max_depth':1, 'colsample_bynode': 0.2}\n",
    "        self._model = XGBRegressor(**param_dist)\n",
    "        \n",
    "    def fit(self, X, y):\n",
    "        self.median = {}\n",
    "        \n",
    "        X = X.copy()\n",
    "        \n",
    "        for var in categorical:\n",
    "            X[var].fillna('Missing', inplace=True)\n",
    "        \n",
    "        X[categorical] = self.rare.fit_transform(X[categorical])\n",
    "        \n",
    "        X = self.encoder.fit_transform(X, y)\n",
    "        \n",
    "        for var in ['LotFrontage', 'GarageYrBlt', 'MasVnrArea']:\n",
    "            if var in X.columns:\n",
    "                X[var+'_NA'] = np.where(X[var].isnull(), 1, 0)\n",
    "                median = X[var].median()\n",
    "                X[var].fillna(median, inplace=True) \n",
    "                self.median[var] = median\n",
    "        \n",
    "        result = self.cont_cleaner.fit_transform(X[continuous])\n",
    "        X[result.columns] = result\n",
    "        \n",
    "        X = self.scaler.fit_transform(X)\n",
    "        \n",
    "        self._model.fit(X, y)\n",
    "        \n",
    "        return self\n",
    "    \n",
    "    def predict(self, X):\n",
    "        \n",
    "        X = X.copy()\n",
    "        \n",
    "        for var in categorical:\n",
    "            X[var].fillna('Missing', inplace=True)\n",
    "        \n",
    "        X[categorical] = self.rare.transform(X[categorical])\n",
    "        \n",
    "        X = self.encoder.transform(X)\n",
    "        \n",
    "        for var in ['LotFrontage', 'GarageYrBlt', 'MasVnrArea']:\n",
    "            if var in X.columns:\n",
    "\n",
    "                X[var+'_NA'] = np.where(X[var].isnull(), 1, 0)\n",
    "                X[var].fillna(self.median[var], inplace=True) \n",
    "        \n",
    "        result = self.cont_cleaner.transform(X[continuous])\n",
    "        X[result.columns] = result\n",
    "        \n",
    "        X = self.scaler.transform(X)\n",
    "        \n",
    "        pred = self._model.predict(X)\n",
    "        \n",
    "        return pred"
   ]
  },
  {
   "cell_type": "code",
   "execution_count": 107,
   "metadata": {
    "scrolled": true
   },
   "outputs": [
    {
     "data": {
      "application/javascript": [
       "\n",
       "            setTimeout(function() {\n",
       "                var nbb_cell_id = 107;\n",
       "                var nbb_unformatted_code = \"from sklearn.base import BaseEstimator, ClassifierMixin\\n\\nclass global_model(BaseEstimator, ClassifierMixin):\\n    def __init__(self):\\n        self.median = {}\\n        self.rare = RareCategoriesImputer(threshold=0.02)\\n        self.encoder = ce.TargetEncoder(cols=categorical)\\n        self.cont_cleaner = ContinuousFeaturesImputer(drop_features=True, impute_zeros=True, create_is_0=True)\\n        self.scaler = RobustScaler()\\n\\n        param_dist = {'objective':'reg:squarederror', 'n_estimators':500, 'reg_lambda': 1, 'max_depth':1, 'colsample_bynode': 0.2}\\n        self._model = XGBRegressor(**param_dist)\\n        \\n    def fit(self, X, y):\\n        self.median = {}\\n        \\n        X = X.copy()\\n        \\n        for var in categorical:\\n            X[var].fillna('Missing', inplace=True)\\n        \\n        X[categorical] = self.rare.fit_transform(X[categorical])\\n        \\n        X = self.encoder.fit_transform(X, y)\\n        \\n        for var in ['LotFrontage', 'GarageYrBlt', 'MasVnrArea']:\\n            if var in X.columns:\\n                X[var+'_NA'] = np.where(X[var].isnull(), 1, 0)\\n                median = X[var].median()\\n                X[var].fillna(median, inplace=True) \\n                self.median[var] = median\\n        \\n        result = self.cont_cleaner.fit_transform(X[continuous])\\n        X[result.columns] = result\\n        \\n        X = self.scaler.fit_transform(X)\\n        \\n        self._model.fit(X, y)\\n        \\n        return self\\n    \\n    def predict(self, X):\\n        \\n        X = X.copy()\\n        \\n        for var in categorical:\\n            X[var].fillna('Missing', inplace=True)\\n        \\n        X[categorical] = self.rare.transform(X[categorical])\\n        \\n        X = self.encoder.transform(X)\\n        \\n        for var in ['LotFrontage', 'GarageYrBlt', 'MasVnrArea']:\\n            if var in X.columns:\\n\\n                X[var+'_NA'] = np.where(X[var].isnull(), 1, 0)\\n                X[var].fillna(self.median[var], inplace=True) \\n        \\n        result = self.cont_cleaner.transform(X[continuous])\\n        X[result.columns] = result\\n        \\n        X = self.scaler.transform(X)\\n        \\n        pred = self._model.predict(X)\\n        \\n        return pred\";\n",
       "                var nbb_formatted_code = \"from sklearn.base import BaseEstimator, ClassifierMixin\\n\\n\\nclass global_model(BaseEstimator, ClassifierMixin):\\n    def __init__(self):\\n        self.median = {}\\n        self.rare = RareCategoriesImputer(threshold=0.02)\\n        self.encoder = ce.TargetEncoder(cols=categorical)\\n        self.cont_cleaner = ContinuousFeaturesImputer(\\n            drop_features=True, impute_zeros=True, create_is_0=True\\n        )\\n        self.scaler = RobustScaler()\\n\\n        param_dist = {\\n            \\\"objective\\\": \\\"reg:squarederror\\\",\\n            \\\"n_estimators\\\": 500,\\n            \\\"reg_lambda\\\": 1,\\n            \\\"max_depth\\\": 1,\\n            \\\"colsample_bynode\\\": 0.2,\\n        }\\n        self._model = XGBRegressor(**param_dist)\\n\\n    def fit(self, X, y):\\n        self.median = {}\\n\\n        X = X.copy()\\n\\n        for var in categorical:\\n            X[var].fillna(\\\"Missing\\\", inplace=True)\\n\\n        X[categorical] = self.rare.fit_transform(X[categorical])\\n\\n        X = self.encoder.fit_transform(X, y)\\n\\n        for var in [\\\"LotFrontage\\\", \\\"GarageYrBlt\\\", \\\"MasVnrArea\\\"]:\\n            if var in X.columns:\\n                X[var + \\\"_NA\\\"] = np.where(X[var].isnull(), 1, 0)\\n                median = X[var].median()\\n                X[var].fillna(median, inplace=True)\\n                self.median[var] = median\\n\\n        result = self.cont_cleaner.fit_transform(X[continuous])\\n        X[result.columns] = result\\n\\n        X = self.scaler.fit_transform(X)\\n\\n        self._model.fit(X, y)\\n\\n        return self\\n\\n    def predict(self, X):\\n\\n        X = X.copy()\\n\\n        for var in categorical:\\n            X[var].fillna(\\\"Missing\\\", inplace=True)\\n\\n        X[categorical] = self.rare.transform(X[categorical])\\n\\n        X = self.encoder.transform(X)\\n\\n        for var in [\\\"LotFrontage\\\", \\\"GarageYrBlt\\\", \\\"MasVnrArea\\\"]:\\n            if var in X.columns:\\n\\n                X[var + \\\"_NA\\\"] = np.where(X[var].isnull(), 1, 0)\\n                X[var].fillna(self.median[var], inplace=True)\\n\\n        result = self.cont_cleaner.transform(X[continuous])\\n        X[result.columns] = result\\n\\n        X = self.scaler.transform(X)\\n\\n        pred = self._model.predict(X)\\n\\n        return pred\";\n",
       "                var nbb_cells = Jupyter.notebook.get_cells();\n",
       "                for (var i = 0; i < nbb_cells.length; ++i) {\n",
       "                    if (nbb_cells[i].input_prompt_number == nbb_cell_id) {\n",
       "                        if (nbb_cells[i].get_text() == nbb_unformatted_code) {\n",
       "                             nbb_cells[i].set_text(nbb_formatted_code);\n",
       "                        }\n",
       "                        break;\n",
       "                    }\n",
       "                }\n",
       "            }, 500);\n",
       "            "
      ],
      "text/plain": [
       "<IPython.core.display.Javascript object>"
      ]
     },
     "metadata": {},
     "output_type": "display_data"
    }
   ],
   "source": [
    "from sklearn.base import BaseEstimator, ClassifierMixin\n",
    "\n",
    "class global_model(BaseEstimator, ClassifierMixin):\n",
    "    def __init__(self):\n",
    "        self.median = {}\n",
    "        self.rare = RareCategoriesImputer(threshold=0.02)\n",
    "        self.encoder = ce.TargetEncoder(cols=categorical)\n",
    "        self.cont_cleaner = ContinuousFeaturesImputer(drop_features=True, impute_zeros=True, create_is_0=True)\n",
    "        self.scaler = RobustScaler()\n",
    "\n",
    "        param_dist = {'objective':'reg:squarederror', 'n_estimators':500, 'reg_lambda': 1, 'max_depth':1, 'colsample_bynode': 0.2}\n",
    "        self._model = XGBRegressor(**param_dist)\n",
    "        \n",
    "    def fit(self, X, y):\n",
    "        self.median = {}\n",
    "        \n",
    "        X = X.copy()\n",
    "        \n",
    "        for var in categorical:\n",
    "            X[var].fillna('Missing', inplace=True)\n",
    "        \n",
    "        X[categorical] = self.rare.fit_transform(X[categorical])\n",
    "        \n",
    "        X = self.encoder.fit_transform(X, y)\n",
    "        \n",
    "        for var in ['LotFrontage', 'GarageYrBlt', 'MasVnrArea']:\n",
    "            if var in X.columns:\n",
    "                X[var+'_NA'] = np.where(X[var].isnull(), 1, 0)\n",
    "                median = X[var].median()\n",
    "                X[var].fillna(median, inplace=True) \n",
    "                self.median[var] = median\n",
    "        \n",
    "        result = self.cont_cleaner.fit_transform(X[continuous])\n",
    "        X[result.columns] = result\n",
    "        \n",
    "        X = self.scaler.fit_transform(X)\n",
    "        \n",
    "        self._model.fit(X, y)\n",
    "        \n",
    "        return self\n",
    "    \n",
    "    def predict(self, X):\n",
    "        \n",
    "        X = X.copy()\n",
    "        \n",
    "        for var in categorical:\n",
    "            X[var].fillna('Missing', inplace=True)\n",
    "        \n",
    "        X[categorical] = self.rare.transform(X[categorical])\n",
    "        \n",
    "        X = self.encoder.transform(X)\n",
    "        \n",
    "        for var in ['LotFrontage', 'GarageYrBlt', 'MasVnrArea']:\n",
    "            if var in X.columns:\n",
    "\n",
    "                X[var+'_NA'] = np.where(X[var].isnull(), 1, 0)\n",
    "                X[var].fillna(self.median[var], inplace=True) \n",
    "        \n",
    "        result = self.cont_cleaner.transform(X[continuous])\n",
    "        X[result.columns] = result\n",
    "        \n",
    "        X = self.scaler.transform(X)\n",
    "        \n",
    "        pred = self._model.predict(X)\n",
    "        \n",
    "        return pred"
   ]
  },
  {
   "cell_type": "code",
   "execution_count": 108,
   "metadata": {
    "scrolled": true
   },
   "outputs": [
    {
     "name": "stderr",
     "output_type": "stream",
     "text": [
      "/home/amine/miniconda3/envs/dev/lib/python3.8/site-packages/category_encoders/utils.py:21: FutureWarning: is_categorical is deprecated and will be removed in a future version.  Use is_categorical_dtype instead\n",
      "  elif pd.api.types.is_categorical(cols):\n",
      "/home/amine/miniconda3/envs/dev/lib/python3.8/site-packages/numpy/core/_methods.py:205: RuntimeWarning: overflow encountered in multiply\n",
      "  x = um.multiply(x, x, out=x)\n"
     ]
    },
    {
     "data": {
      "image/png": "[encoded data removed]",
      "text/plain": [
       "<Figure size 432x288 with 1 Axes>"
      ]
     },
     "metadata": {
      "needs_background": "light"
     },
     "output_type": "display_data"
    },
    {
     "name": "stderr",
     "output_type": "stream",
     "text": [
      "/home/amine/miniconda3/envs/dev/lib/python3.8/site-packages/category_encoders/utils.py:21: FutureWarning: is_categorical is deprecated and will be removed in a future version.  Use is_categorical_dtype instead\n",
      "  elif pd.api.types.is_categorical(cols):\n",
      "/home/amine/miniconda3/envs/dev/lib/python3.8/site-packages/numpy/core/_methods.py:205: RuntimeWarning: overflow encountered in multiply\n",
      "  x = um.multiply(x, x, out=x)\n"
     ]
    },
    {
     "data": {
      "image/png": "[encoded data removed]",
      "text/plain": [
       "<Figure size 432x288 with 1 Axes>"
      ]
     },
     "metadata": {
      "needs_background": "light"
     },
     "output_type": "display_data"
    },
    {
     "name": "stderr",
     "output_type": "stream",
     "text": [
      "/home/amine/miniconda3/envs/dev/lib/python3.8/site-packages/category_encoders/utils.py:21: FutureWarning: is_categorical is deprecated and will be removed in a future version.  Use is_categorical_dtype instead\n",
      "  elif pd.api.types.is_categorical(cols):\n",
      "/home/amine/miniconda3/envs/dev/lib/python3.8/site-packages/numpy/core/_methods.py:205: RuntimeWarning: overflow encountered in multiply\n",
      "  x = um.multiply(x, x, out=x)\n"
     ]
    },
    {
     "data": {
      "image/png": "[encoded data removed]",
      "text/plain": [
       "<Figure size 432x288 with 1 Axes>"
      ]
     },
     "metadata": {
      "needs_background": "light"
     },
     "output_type": "display_data"
    },
    {
     "name": "stderr",
     "output_type": "stream",
     "text": [
      "/home/amine/miniconda3/envs/dev/lib/python3.8/site-packages/category_encoders/utils.py:21: FutureWarning: is_categorical is deprecated and will be removed in a future version.  Use is_categorical_dtype instead\n",
      "  elif pd.api.types.is_categorical(cols):\n",
      "/home/amine/miniconda3/envs/dev/lib/python3.8/site-packages/numpy/core/_methods.py:205: RuntimeWarning: overflow encountered in multiply\n",
      "  x = um.multiply(x, x, out=x)\n"
     ]
    },
    {
     "data": {
      "image/png": "[encoded data removed]",
      "text/plain": [
       "<Figure size 432x288 with 1 Axes>"
      ]
     },
     "metadata": {
      "needs_background": "light"
     },
     "output_type": "display_data"
    },
    {
     "name": "stderr",
     "output_type": "stream",
     "text": [
      "/home/amine/miniconda3/envs/dev/lib/python3.8/site-packages/category_encoders/utils.py:21: FutureWarning: is_categorical is deprecated and will be removed in a future version.  Use is_categorical_dtype instead\n",
      "  elif pd.api.types.is_categorical(cols):\n",
      "/home/amine/miniconda3/envs/dev/lib/python3.8/site-packages/numpy/core/_methods.py:205: RuntimeWarning: overflow encountered in multiply\n",
      "  x = um.multiply(x, x, out=x)\n"
     ]
    },
    {
     "data": {
      "image/png": "[encoded data removed]",
      "text/plain": [
       "<Figure size 432x288 with 1 Axes>"
      ]
     },
     "metadata": {
      "needs_background": "light"
     },
     "output_type": "display_data"
    },
    {
     "name": "stdout",
     "output_type": "stream",
     "text": [
      "results: [0.11774045 0.13882259 0.13307617 0.12308184 0.12121336]\n",
      "mean: 0.1267868835676546\n"
     ]
    },
    {
     "data": {
      "application/javascript": [
       "\n",
       "            setTimeout(function() {\n",
       "                var nbb_cell_id = 108;\n",
       "                var nbb_unformatted_code = \"result = cross_val_score(model_class(), X, y, scoring=rmse, cv=5)\\nprint(f\\\"results: {result}\\\\nmean: {result.mean()}\\\")\";\n",
       "                var nbb_formatted_code = \"result = cross_val_score(model_class(), X, y, scoring=rmse, cv=5)\\nprint(f\\\"results: {result}\\\\nmean: {result.mean()}\\\")\";\n",
       "                var nbb_cells = Jupyter.notebook.get_cells();\n",
       "                for (var i = 0; i < nbb_cells.length; ++i) {\n",
       "                    if (nbb_cells[i].input_prompt_number == nbb_cell_id) {\n",
       "                        if (nbb_cells[i].get_text() == nbb_unformatted_code) {\n",
       "                             nbb_cells[i].set_text(nbb_formatted_code);\n",
       "                        }\n",
       "                        break;\n",
       "                    }\n",
       "                }\n",
       "            }, 500);\n",
       "            "
      ],
      "text/plain": [
       "<IPython.core.display.Javascript object>"
      ]
     },
     "metadata": {},
     "output_type": "display_data"
    }
   ],
   "source": [
    "result = cross_val_score(model_class(), X, y, scoring=rmse, cv=5)\n",
    "print(f\"results: {result}\\nmean: {result.mean()}\")"
   ]
  },
  {
   "cell_type": "code",
   "execution_count": 91,
   "metadata": {
    "scrolled": true
   },
   "outputs": [
    {
     "name": "stderr",
     "output_type": "stream",
     "text": [
      "/home/amine/miniconda3/envs/dev/lib/python3.8/site-packages/category_encoders/utils.py:21: FutureWarning: is_categorical is deprecated and will be removed in a future version.  Use is_categorical_dtype instead\n",
      "  elif pd.api.types.is_categorical(cols):\n",
      "/home/amine/miniconda3/envs/dev/lib/python3.8/site-packages/numpy/core/_methods.py:205: RuntimeWarning: overflow encountered in multiply\n",
      "  x = um.multiply(x, x, out=x)\n"
     ]
    },
    {
     "data": {
      "text/plain": [
       "(0.08418012943826493, 0.13825956871485867)"
      ]
     },
     "execution_count": 91,
     "metadata": {},
     "output_type": "execute_result"
    },
    {
     "data": {
      "application/javascript": [
       "\n",
       "            setTimeout(function() {\n",
       "                var nbb_cell_id = 91;\n",
       "                var nbb_unformatted_code = \"model = model_class().fit(X_train, y_train)\\nscore_train_test()\";\n",
       "                var nbb_formatted_code = \"model = model_class().fit(X_train, y_train)\\nscore_train_test()\";\n",
       "                var nbb_cells = Jupyter.notebook.get_cells();\n",
       "                for (var i = 0; i < nbb_cells.length; ++i) {\n",
       "                    if (nbb_cells[i].input_prompt_number == nbb_cell_id) {\n",
       "                        if (nbb_cells[i].get_text() == nbb_unformatted_code) {\n",
       "                             nbb_cells[i].set_text(nbb_formatted_code);\n",
       "                        }\n",
       "                        break;\n",
       "                    }\n",
       "                }\n",
       "            }, 500);\n",
       "            "
      ],
      "text/plain": [
       "<IPython.core.display.Javascript object>"
      ]
     },
     "metadata": {},
     "output_type": "display_data"
    }
   ],
   "source": [
    "model = model_class().fit(X_train, y_train)\n",
    "score_train_test()"
   ]
  },
  {
   "cell_type": "code",
   "execution_count": 28,
   "metadata": {
    "scrolled": true
   },
   "outputs": [
    {
     "name": "stdout",
     "output_type": "stream",
     "text": [
      "0.08026212229414958\n"
     ]
    },
    {
     "data": {
      "text/plain": [
       "0.08026212229414958"
      ]
     },
     "execution_count": 28,
     "metadata": {},
     "output_type": "execute_result"
    },
    {
     "data": {
      "application/javascript": [
       "\n",
       "            setTimeout(function() {\n",
       "                var nbb_cell_id = 28;\n",
       "                var nbb_unformatted_code = \"rmse(model, X_train, y_train)\";\n",
       "                var nbb_formatted_code = \"rmse(model, X_train, y_train)\";\n",
       "                var nbb_cells = Jupyter.notebook.get_cells();\n",
       "                for (var i = 0; i < nbb_cells.length; ++i) {\n",
       "                    if (nbb_cells[i].input_prompt_number == nbb_cell_id) {\n",
       "                        if (nbb_cells[i].get_text() == nbb_unformatted_code) {\n",
       "                             nbb_cells[i].set_text(nbb_formatted_code);\n",
       "                        }\n",
       "                        break;\n",
       "                    }\n",
       "                }\n",
       "            }, 500);\n",
       "            "
      ],
      "text/plain": [
       "<IPython.core.display.Javascript object>"
      ]
     },
     "metadata": {},
     "output_type": "display_data"
    }
   ],
   "source": [
    "rmse(model, X_train, y_train)"
   ]
  },
  {
   "cell_type": "code",
   "execution_count": 19,
   "metadata": {},
   "outputs": [
    {
     "data": {
      "application/javascript": [
       "\n",
       "            setTimeout(function() {\n",
       "                var nbb_cell_id = 19;\n",
       "                var nbb_unformatted_code = \"def score_train_test(selected=False):\\n    if selected:\\n        train_pred, test_pred  = model.predict(X_train[selected]), model.predict(X_test[selected])\\n    else:\\n        train_pred, test_pred  = model.predict(X_train), model.predict(X_test)\\n        \\n    train_mse, test_mse = mean_squared_error(train_pred, y_train), mean_squared_error(test_pred, y_test), \\n    return np.sqrt(train_mse), np.sqrt(test_mse) \";\n",
       "                var nbb_formatted_code = \"def score_train_test(selected=False):\\n    if selected:\\n        train_pred, test_pred = model.predict(X_train[selected]), model.predict(\\n            X_test[selected]\\n        )\\n    else:\\n        train_pred, test_pred = model.predict(X_train), model.predict(X_test)\\n\\n    train_mse, test_mse = (\\n        mean_squared_error(train_pred, y_train),\\n        mean_squared_error(test_pred, y_test),\\n    )\\n    return np.sqrt(train_mse), np.sqrt(test_mse)\";\n",
       "                var nbb_cells = Jupyter.notebook.get_cells();\n",
       "                for (var i = 0; i < nbb_cells.length; ++i) {\n",
       "                    if (nbb_cells[i].input_prompt_number == nbb_cell_id) {\n",
       "                        if (nbb_cells[i].get_text() == nbb_unformatted_code) {\n",
       "                             nbb_cells[i].set_text(nbb_formatted_code);\n",
       "                        }\n",
       "                        break;\n",
       "                    }\n",
       "                }\n",
       "            }, 500);\n",
       "            "
      ],
      "text/plain": [
       "<IPython.core.display.Javascript object>"
      ]
     },
     "metadata": {},
     "output_type": "display_data"
    }
   ],
   "source": [
    "def score_train_test(selected=False):\n",
    "    if selected:\n",
    "        train_pred, test_pred  = model.predict(X_train[selected]), model.predict(X_test[selected])\n",
    "    else:\n",
    "        train_pred, test_pred  = model.predict(X_train), model.predict(X_test)\n",
    "        \n",
    "    train_mse, test_mse = mean_squared_error(train_pred, y_train), mean_squared_error(test_pred, y_test), \n",
    "    return np.sqrt(train_mse), np.sqrt(test_mse) \n"
   ]
  },
  {
   "cell_type": "code",
   "execution_count": 93,
   "metadata": {
    "scrolled": true
   },
   "outputs": [
    {
     "data": {
      "application/javascript": [
       "\n",
       "            setTimeout(function() {\n",
       "                var nbb_cell_id = 93;\n",
       "                var nbb_unformatted_code = \"def rmse(clf, X, y):\\n    y_pred = clf.predict(X)\\n    error =  np.sqrt(mean_squared_error(y_pred, y))\\n    sns.distplot(y)\\n    sns.distplot(y_pred)\\n    plt.show()\\n    return error\";\n",
       "                var nbb_formatted_code = \"def rmse(clf, X, y):\\n    y_pred = clf.predict(X)\\n    error = np.sqrt(mean_squared_error(y_pred, y))\\n    sns.distplot(y)\\n    sns.distplot(y_pred)\\n    plt.show()\\n    return error\";\n",
       "                var nbb_cells = Jupyter.notebook.get_cells();\n",
       "                for (var i = 0; i < nbb_cells.length; ++i) {\n",
       "                    if (nbb_cells[i].input_prompt_number == nbb_cell_id) {\n",
       "                        if (nbb_cells[i].get_text() == nbb_unformatted_code) {\n",
       "                             nbb_cells[i].set_text(nbb_formatted_code);\n",
       "                        }\n",
       "                        break;\n",
       "                    }\n",
       "                }\n",
       "            }, 500);\n",
       "            "
      ],
      "text/plain": [
       "<IPython.core.display.Javascript object>"
      ]
     },
     "metadata": {},
     "output_type": "display_data"
    }
   ],
   "source": [
    "def rmse(clf, X, y):\n",
    "    y_pred = clf.predict(X)\n",
    "    error =  np.sqrt(mean_squared_error(y_pred, y))\n",
    "    sns.distplot(y)\n",
    "    sns.distplot(y_pred)\n",
    "    plt.show()\n",
    "    return error\n",
    "\n"
   ]
  },
  {
   "cell_type": "code",
   "execution_count": 27,
   "metadata": {},
   "outputs": [
    {
     "name": "stdout",
     "output_type": "stream",
     "text": [
      "[Pipeline] ................. (step 1 of 7) Processing a, total=   0.1s\n"
     ]
    },
    {
     "ename": "ValueError",
     "evalue": "Specifying the columns using strings is only supported for pandas DataFrames",
     "output_type": "error",
     "traceback": [
      "\u001b[0;31m---------------------------------------------------------------------------\u001b[0m",
      "\u001b[0;31mAttributeError\u001b[0m                            Traceback (most recent call last)",
      "\u001b[0;32m~/miniconda3/envs/dev/lib/python3.8/site-packages/sklearn/utils/__init__.py\u001b[0m in \u001b[0;36m_get_column_indices\u001b[0;34m(X, key)\u001b[0m\n\u001b[1;32m    424\u001b[0m         \u001b[0;32mtry\u001b[0m\u001b[0;34m:\u001b[0m\u001b[0;34m\u001b[0m\u001b[0;34m\u001b[0m\u001b[0m\n\u001b[0;32m--> 425\u001b[0;31m             \u001b[0mall_columns\u001b[0m \u001b[0;34m=\u001b[0m \u001b[0mX\u001b[0m\u001b[0;34m.\u001b[0m\u001b[0mcolumns\u001b[0m\u001b[0;34m\u001b[0m\u001b[0;34m\u001b[0m\u001b[0m\n\u001b[0m\u001b[1;32m    426\u001b[0m         \u001b[0;32mexcept\u001b[0m \u001b[0mAttributeError\u001b[0m\u001b[0;34m:\u001b[0m\u001b[0;34m\u001b[0m\u001b[0;34m\u001b[0m\u001b[0m\n",
      "\u001b[0;31mAttributeError\u001b[0m: 'numpy.ndarray' object has no attribute 'columns'",
      "\nDuring handling of the above exception, another exception occurred:\n",
      "\u001b[0;31mValueError\u001b[0m                                Traceback (most recent call last)",
      "\u001b[0;32m<ipython-input-27-0d76fd4c42a4>\u001b[0m in \u001b[0;36m<module>\u001b[0;34m\u001b[0m\n\u001b[1;32m     62\u001b[0m     ], verbose=1\n\u001b[1;32m     63\u001b[0m )\n\u001b[0;32m---> 64\u001b[0;31m \u001b[0mpipe\u001b[0m\u001b[0;34m.\u001b[0m\u001b[0mfit\u001b[0m\u001b[0;34m(\u001b[0m\u001b[0mX_train\u001b[0m\u001b[0;34m,\u001b[0m \u001b[0my_train\u001b[0m\u001b[0;34m)\u001b[0m\u001b[0;34m\u001b[0m\u001b[0;34m\u001b[0m\u001b[0m\n\u001b[0m",
      "\u001b[0;32m~/miniconda3/envs/dev/lib/python3.8/site-packages/sklearn/pipeline.py\u001b[0m in \u001b[0;36mfit\u001b[0;34m(self, X, y, **fit_params)\u001b[0m\n\u001b[1;32m    328\u001b[0m         \"\"\"\n\u001b[1;32m    329\u001b[0m         \u001b[0mfit_params_steps\u001b[0m \u001b[0;34m=\u001b[0m \u001b[0mself\u001b[0m\u001b[0;34m.\u001b[0m\u001b[0m_check_fit_params\u001b[0m\u001b[0;34m(\u001b[0m\u001b[0;34m**\u001b[0m\u001b[0mfit_params\u001b[0m\u001b[0;34m)\u001b[0m\u001b[0;34m\u001b[0m\u001b[0;34m\u001b[0m\u001b[0m\n\u001b[0;32m--> 330\u001b[0;31m         \u001b[0mXt\u001b[0m \u001b[0;34m=\u001b[0m \u001b[0mself\u001b[0m\u001b[0;34m.\u001b[0m\u001b[0m_fit\u001b[0m\u001b[0;34m(\u001b[0m\u001b[0mX\u001b[0m\u001b[0;34m,\u001b[0m \u001b[0my\u001b[0m\u001b[0;34m,\u001b[0m \u001b[0;34m**\u001b[0m\u001b[0mfit_params_steps\u001b[0m\u001b[0;34m)\u001b[0m\u001b[0;34m\u001b[0m\u001b[0;34m\u001b[0m\u001b[0m\n\u001b[0m\u001b[1;32m    331\u001b[0m         with _print_elapsed_time('Pipeline',\n\u001b[1;32m    332\u001b[0m                                  self._log_message(len(self.steps) - 1)):\n",
      "\u001b[0;32m~/miniconda3/envs/dev/lib/python3.8/site-packages/sklearn/pipeline.py\u001b[0m in \u001b[0;36m_fit\u001b[0;34m(self, X, y, **fit_params_steps)\u001b[0m\n\u001b[1;32m    290\u001b[0m                 \u001b[0mcloned_transformer\u001b[0m \u001b[0;34m=\u001b[0m \u001b[0mclone\u001b[0m\u001b[0;34m(\u001b[0m\u001b[0mtransformer\u001b[0m\u001b[0;34m)\u001b[0m\u001b[0;34m\u001b[0m\u001b[0;34m\u001b[0m\u001b[0m\n\u001b[1;32m    291\u001b[0m             \u001b[0;31m# Fit or load from cache the current transformer\u001b[0m\u001b[0;34m\u001b[0m\u001b[0;34m\u001b[0m\u001b[0;34m\u001b[0m\u001b[0m\n\u001b[0;32m--> 292\u001b[0;31m             X, fitted_transformer = fit_transform_one_cached(\n\u001b[0m\u001b[1;32m    293\u001b[0m                 \u001b[0mcloned_transformer\u001b[0m\u001b[0;34m,\u001b[0m \u001b[0mX\u001b[0m\u001b[0;34m,\u001b[0m \u001b[0my\u001b[0m\u001b[0;34m,\u001b[0m \u001b[0;32mNone\u001b[0m\u001b[0;34m,\u001b[0m\u001b[0;34m\u001b[0m\u001b[0;34m\u001b[0m\u001b[0m\n\u001b[1;32m    294\u001b[0m                 \u001b[0mmessage_clsname\u001b[0m\u001b[0;34m=\u001b[0m\u001b[0;34m'Pipeline'\u001b[0m\u001b[0;34m,\u001b[0m\u001b[0;34m\u001b[0m\u001b[0;34m\u001b[0m\u001b[0m\n",
      "\u001b[0;32m~/miniconda3/envs/dev/lib/python3.8/site-packages/joblib/memory.py\u001b[0m in \u001b[0;36m__call__\u001b[0;34m(self, *args, **kwargs)\u001b[0m\n\u001b[1;32m    350\u001b[0m \u001b[0;34m\u001b[0m\u001b[0m\n\u001b[1;32m    351\u001b[0m     \u001b[0;32mdef\u001b[0m \u001b[0m__call__\u001b[0m\u001b[0;34m(\u001b[0m\u001b[0mself\u001b[0m\u001b[0;34m,\u001b[0m \u001b[0;34m*\u001b[0m\u001b[0margs\u001b[0m\u001b[0;34m,\u001b[0m \u001b[0;34m**\u001b[0m\u001b[0mkwargs\u001b[0m\u001b[0;34m)\u001b[0m\u001b[0;34m:\u001b[0m\u001b[0;34m\u001b[0m\u001b[0;34m\u001b[0m\u001b[0m\n\u001b[0;32m--> 352\u001b[0;31m         \u001b[0;32mreturn\u001b[0m \u001b[0mself\u001b[0m\u001b[0;34m.\u001b[0m\u001b[0mfunc\u001b[0m\u001b[0;34m(\u001b[0m\u001b[0;34m*\u001b[0m\u001b[0margs\u001b[0m\u001b[0;34m,\u001b[0m \u001b[0;34m**\u001b[0m\u001b[0mkwargs\u001b[0m\u001b[0;34m)\u001b[0m\u001b[0;34m\u001b[0m\u001b[0;34m\u001b[0m\u001b[0m\n\u001b[0m\u001b[1;32m    353\u001b[0m \u001b[0;34m\u001b[0m\u001b[0m\n\u001b[1;32m    354\u001b[0m     \u001b[0;32mdef\u001b[0m \u001b[0mcall_and_shelve\u001b[0m\u001b[0;34m(\u001b[0m\u001b[0mself\u001b[0m\u001b[0;34m,\u001b[0m \u001b[0;34m*\u001b[0m\u001b[0margs\u001b[0m\u001b[0;34m,\u001b[0m \u001b[0;34m**\u001b[0m\u001b[0mkwargs\u001b[0m\u001b[0;34m)\u001b[0m\u001b[0;34m:\u001b[0m\u001b[0;34m\u001b[0m\u001b[0;34m\u001b[0m\u001b[0m\n",
      "\u001b[0;32m~/miniconda3/envs/dev/lib/python3.8/site-packages/sklearn/pipeline.py\u001b[0m in \u001b[0;36m_fit_transform_one\u001b[0;34m(transformer, X, y, weight, message_clsname, message, **fit_params)\u001b[0m\n\u001b[1;32m    738\u001b[0m     \u001b[0;32mwith\u001b[0m \u001b[0m_print_elapsed_time\u001b[0m\u001b[0;34m(\u001b[0m\u001b[0mmessage_clsname\u001b[0m\u001b[0;34m,\u001b[0m \u001b[0mmessage\u001b[0m\u001b[0;34m)\u001b[0m\u001b[0;34m:\u001b[0m\u001b[0;34m\u001b[0m\u001b[0;34m\u001b[0m\u001b[0m\n\u001b[1;32m    739\u001b[0m         \u001b[0;32mif\u001b[0m \u001b[0mhasattr\u001b[0m\u001b[0;34m(\u001b[0m\u001b[0mtransformer\u001b[0m\u001b[0;34m,\u001b[0m \u001b[0;34m'fit_transform'\u001b[0m\u001b[0;34m)\u001b[0m\u001b[0;34m:\u001b[0m\u001b[0;34m\u001b[0m\u001b[0;34m\u001b[0m\u001b[0m\n\u001b[0;32m--> 740\u001b[0;31m             \u001b[0mres\u001b[0m \u001b[0;34m=\u001b[0m \u001b[0mtransformer\u001b[0m\u001b[0;34m.\u001b[0m\u001b[0mfit_transform\u001b[0m\u001b[0;34m(\u001b[0m\u001b[0mX\u001b[0m\u001b[0;34m,\u001b[0m \u001b[0my\u001b[0m\u001b[0;34m,\u001b[0m \u001b[0;34m**\u001b[0m\u001b[0mfit_params\u001b[0m\u001b[0;34m)\u001b[0m\u001b[0;34m\u001b[0m\u001b[0;34m\u001b[0m\u001b[0m\n\u001b[0m\u001b[1;32m    741\u001b[0m         \u001b[0;32melse\u001b[0m\u001b[0;34m:\u001b[0m\u001b[0;34m\u001b[0m\u001b[0;34m\u001b[0m\u001b[0m\n\u001b[1;32m    742\u001b[0m             \u001b[0mres\u001b[0m \u001b[0;34m=\u001b[0m \u001b[0mtransformer\u001b[0m\u001b[0;34m.\u001b[0m\u001b[0mfit\u001b[0m\u001b[0;34m(\u001b[0m\u001b[0mX\u001b[0m\u001b[0;34m,\u001b[0m \u001b[0my\u001b[0m\u001b[0;34m,\u001b[0m \u001b[0;34m**\u001b[0m\u001b[0mfit_params\u001b[0m\u001b[0;34m)\u001b[0m\u001b[0;34m.\u001b[0m\u001b[0mtransform\u001b[0m\u001b[0;34m(\u001b[0m\u001b[0mX\u001b[0m\u001b[0;34m)\u001b[0m\u001b[0;34m\u001b[0m\u001b[0;34m\u001b[0m\u001b[0m\n",
      "\u001b[0;32m~/miniconda3/envs/dev/lib/python3.8/site-packages/sklearn/compose/_column_transformer.py\u001b[0m in \u001b[0;36mfit_transform\u001b[0;34m(self, X, y)\u001b[0m\n\u001b[1;32m    527\u001b[0m         \u001b[0mself\u001b[0m\u001b[0;34m.\u001b[0m\u001b[0m_validate_transformers\u001b[0m\u001b[0;34m(\u001b[0m\u001b[0;34m)\u001b[0m\u001b[0;34m\u001b[0m\u001b[0;34m\u001b[0m\u001b[0m\n\u001b[1;32m    528\u001b[0m         \u001b[0mself\u001b[0m\u001b[0;34m.\u001b[0m\u001b[0m_validate_column_callables\u001b[0m\u001b[0;34m(\u001b[0m\u001b[0mX\u001b[0m\u001b[0;34m)\u001b[0m\u001b[0;34m\u001b[0m\u001b[0;34m\u001b[0m\u001b[0m\n\u001b[0;32m--> 529\u001b[0;31m         \u001b[0mself\u001b[0m\u001b[0;34m.\u001b[0m\u001b[0m_validate_remainder\u001b[0m\u001b[0;34m(\u001b[0m\u001b[0mX\u001b[0m\u001b[0;34m)\u001b[0m\u001b[0;34m\u001b[0m\u001b[0;34m\u001b[0m\u001b[0m\n\u001b[0m\u001b[1;32m    530\u001b[0m \u001b[0;34m\u001b[0m\u001b[0m\n\u001b[1;32m    531\u001b[0m         \u001b[0mresult\u001b[0m \u001b[0;34m=\u001b[0m \u001b[0mself\u001b[0m\u001b[0;34m.\u001b[0m\u001b[0m_fit_transform\u001b[0m\u001b[0;34m(\u001b[0m\u001b[0mX\u001b[0m\u001b[0;34m,\u001b[0m \u001b[0my\u001b[0m\u001b[0;34m,\u001b[0m \u001b[0m_fit_transform_one\u001b[0m\u001b[0;34m)\u001b[0m\u001b[0;34m\u001b[0m\u001b[0;34m\u001b[0m\u001b[0m\n",
      "\u001b[0;32m~/miniconda3/envs/dev/lib/python3.8/site-packages/sklearn/compose/_column_transformer.py\u001b[0m in \u001b[0;36m_validate_remainder\u001b[0;34m(self, X)\u001b[0m\n\u001b[1;32m    325\u001b[0m         \u001b[0mcols\u001b[0m \u001b[0;34m=\u001b[0m \u001b[0;34m[\u001b[0m\u001b[0;34m]\u001b[0m\u001b[0;34m\u001b[0m\u001b[0;34m\u001b[0m\u001b[0m\n\u001b[1;32m    326\u001b[0m         \u001b[0;32mfor\u001b[0m \u001b[0mcolumns\u001b[0m \u001b[0;32min\u001b[0m \u001b[0mself\u001b[0m\u001b[0;34m.\u001b[0m\u001b[0m_columns\u001b[0m\u001b[0;34m:\u001b[0m\u001b[0;34m\u001b[0m\u001b[0;34m\u001b[0m\u001b[0m\n\u001b[0;32m--> 327\u001b[0;31m             \u001b[0mcols\u001b[0m\u001b[0;34m.\u001b[0m\u001b[0mextend\u001b[0m\u001b[0;34m(\u001b[0m\u001b[0m_get_column_indices\u001b[0m\u001b[0;34m(\u001b[0m\u001b[0mX\u001b[0m\u001b[0;34m,\u001b[0m \u001b[0mcolumns\u001b[0m\u001b[0;34m)\u001b[0m\u001b[0;34m)\u001b[0m\u001b[0;34m\u001b[0m\u001b[0;34m\u001b[0m\u001b[0m\n\u001b[0m\u001b[1;32m    328\u001b[0m \u001b[0;34m\u001b[0m\u001b[0m\n\u001b[1;32m    329\u001b[0m         \u001b[0mremaining_idx\u001b[0m \u001b[0;34m=\u001b[0m \u001b[0msorted\u001b[0m\u001b[0;34m(\u001b[0m\u001b[0mset\u001b[0m\u001b[0;34m(\u001b[0m\u001b[0mrange\u001b[0m\u001b[0;34m(\u001b[0m\u001b[0mself\u001b[0m\u001b[0;34m.\u001b[0m\u001b[0m_n_features\u001b[0m\u001b[0;34m)\u001b[0m\u001b[0;34m)\u001b[0m \u001b[0;34m-\u001b[0m \u001b[0mset\u001b[0m\u001b[0;34m(\u001b[0m\u001b[0mcols\u001b[0m\u001b[0;34m)\u001b[0m\u001b[0;34m)\u001b[0m\u001b[0;34m\u001b[0m\u001b[0;34m\u001b[0m\u001b[0m\n",
      "\u001b[0;32m~/miniconda3/envs/dev/lib/python3.8/site-packages/sklearn/utils/__init__.py\u001b[0m in \u001b[0;36m_get_column_indices\u001b[0;34m(X, key)\u001b[0m\n\u001b[1;32m    425\u001b[0m             \u001b[0mall_columns\u001b[0m \u001b[0;34m=\u001b[0m \u001b[0mX\u001b[0m\u001b[0;34m.\u001b[0m\u001b[0mcolumns\u001b[0m\u001b[0;34m\u001b[0m\u001b[0;34m\u001b[0m\u001b[0m\n\u001b[1;32m    426\u001b[0m         \u001b[0;32mexcept\u001b[0m \u001b[0mAttributeError\u001b[0m\u001b[0;34m:\u001b[0m\u001b[0;34m\u001b[0m\u001b[0;34m\u001b[0m\u001b[0m\n\u001b[0;32m--> 427\u001b[0;31m             raise ValueError(\"Specifying the columns using strings is only \"\n\u001b[0m\u001b[1;32m    428\u001b[0m                              \"supported for pandas DataFrames\")\n\u001b[1;32m    429\u001b[0m         \u001b[0;32mif\u001b[0m \u001b[0misinstance\u001b[0m\u001b[0;34m(\u001b[0m\u001b[0mkey\u001b[0m\u001b[0;34m,\u001b[0m \u001b[0mstr\u001b[0m\u001b[0;34m)\u001b[0m\u001b[0;34m:\u001b[0m\u001b[0;34m\u001b[0m\u001b[0;34m\u001b[0m\u001b[0m\n",
      "\u001b[0;31mValueError\u001b[0m: Specifying the columns using strings is only supported for pandas DataFrames"
     ]
    },
    {
     "data": {
      "application/javascript": [
       "\n",
       "            setTimeout(function() {\n",
       "                var nbb_cell_id = 27;\n",
       "                var nbb_unformatted_code = \"param_dist = {\\n    \\\"objective\\\": \\\"reg:squarederror\\\",\\n    \\\"n_estimators\\\": 1_000,\\n    \\\"reg_lambda\\\": 0.1,\\n    \\\"max_depth\\\": 1,\\n    \\\"colsample_bynode\\\": 0.5,\\n}\\nmodel = XGBRegressor(**param_dist)\\n\\n# categorical_ids = [train.columns.get_loc(feature) for feature in categorical]\\n# continuous_ids = [train.columns.get_loc(feature) for feature in continuous]\\ncategorical_ids = categorical\\ncontinuous_ids = continuous\\n\\npipe = Pipeline(\\n    [\\n        (\\n            \\\"a\\\", ColumnTransformer(\\n                [(\\\"rare categories encoder\\\", RareCategoriesImputer(), categorical_ids,)], remainder=\\\"passthrough\\\",\\n            ),\\n        ),\\n        (\\n            \\\"b\\\", ColumnTransformer(\\n                    [(\\n                        \\\"simple imputer\\\",\\n                        Imputer(strategy=\\\"constant\\\", fill_value=\\\"Missing\\\", add_indicator=True),\\n                        categorical_ids,\\n                    )], remainder=\\\"passthrough\\\",\\n            ),\\n        ),\\n        (\\n            \\\"c\\\", ColumnTransformer(\\n                    [(\\\"target encoder\\\", ce.TargetEncoder(), categorical_ids),], remainder=\\\"passthrough\\\",\\n            ),\\n        ),\\n        (\\n            \\\"d\\\", ColumnTransformer(\\n                    [(\\n                        \\\"continuous median imputer\\\",\\n                        Imputer(strategy=\\\"median\\\", add_indicator=True),\\n                        continuous_ids,\\n                    ),], remainder=\\\"passthrough\\\",\\n            ),\\n        ),\\n        (\\n            \\\"e\\\", ColumnTransformer(\\n                    [(\\n                        \\\"continuous feature\\\",\\n                        ContinuousFeaturesImputer(\\n                            drop_features=False,\\n                            create_is_0=True,\\n                            impute_zeros=True,\\n                            drop_outliers=True,\\n                        ),\\n                        continuous_ids,\\n                    ),], remainder=\\\"passthrough\\\",\\n            ),\\n        ),\\n        (\\\"scaler\\\", RobustScaler()),\\n            \\n        (\\\"model\\\", model),\\n    ], verbose=1\\n)\\npipe.fit(X_train, y_train)\";\n",
       "                var nbb_formatted_code = \"param_dist = {\\n    \\\"objective\\\": \\\"reg:squarederror\\\",\\n    \\\"n_estimators\\\": 1_000,\\n    \\\"reg_lambda\\\": 0.1,\\n    \\\"max_depth\\\": 1,\\n    \\\"colsample_bynode\\\": 0.5,\\n}\\nmodel = XGBRegressor(**param_dist)\\n\\n# categorical_ids = [train.columns.get_loc(feature) for feature in categorical]\\n# continuous_ids = [train.columns.get_loc(feature) for feature in continuous]\\ncategorical_ids = categorical\\ncontinuous_ids = continuous\\n\\npipe = Pipeline(\\n    [\\n        (\\n            \\\"a\\\",\\n            ColumnTransformer(\\n                [\\n                    (\\n                        \\\"rare categories encoder\\\",\\n                        RareCategoriesImputer(),\\n                        categorical_ids,\\n                    )\\n                ],\\n                remainder=\\\"passthrough\\\",\\n            ),\\n        ),\\n        (\\n            \\\"b\\\",\\n            ColumnTransformer(\\n                [\\n                    (\\n                        \\\"simple imputer\\\",\\n                        Imputer(\\n                            strategy=\\\"constant\\\",\\n                            fill_value=\\\"Missing\\\",\\n                            add_indicator=True,\\n                        ),\\n                        categorical_ids,\\n                    )\\n                ],\\n                remainder=\\\"passthrough\\\",\\n            ),\\n        ),\\n        (\\n            \\\"c\\\",\\n            ColumnTransformer(\\n                [\\n                    (\\\"target encoder\\\", ce.TargetEncoder(), categorical_ids),\\n                ],\\n                remainder=\\\"passthrough\\\",\\n            ),\\n        ),\\n        (\\n            \\\"d\\\",\\n            ColumnTransformer(\\n                [\\n                    (\\n                        \\\"continuous median imputer\\\",\\n                        Imputer(strategy=\\\"median\\\", add_indicator=True),\\n                        continuous_ids,\\n                    ),\\n                ],\\n                remainder=\\\"passthrough\\\",\\n            ),\\n        ),\\n        (\\n            \\\"e\\\",\\n            ColumnTransformer(\\n                [\\n                    (\\n                        \\\"continuous feature\\\",\\n                        ContinuousFeaturesImputer(\\n                            drop_features=False,\\n                            create_is_0=True,\\n                            impute_zeros=True,\\n                            drop_outliers=True,\\n                        ),\\n                        continuous_ids,\\n                    ),\\n                ],\\n                remainder=\\\"passthrough\\\",\\n            ),\\n        ),\\n        (\\\"scaler\\\", RobustScaler()),\\n        (\\\"model\\\", model),\\n    ],\\n    verbose=1,\\n)\\npipe.fit(X_train, y_train)\";\n",
       "                var nbb_cells = Jupyter.notebook.get_cells();\n",
       "                for (var i = 0; i < nbb_cells.length; ++i) {\n",
       "                    if (nbb_cells[i].input_prompt_number == nbb_cell_id) {\n",
       "                        if (nbb_cells[i].get_text() == nbb_unformatted_code) {\n",
       "                             nbb_cells[i].set_text(nbb_formatted_code);\n",
       "                        }\n",
       "                        break;\n",
       "                    }\n",
       "                }\n",
       "            }, 500);\n",
       "            "
      ],
      "text/plain": [
       "<IPython.core.display.Javascript object>"
      ]
     },
     "metadata": {},
     "output_type": "display_data"
    }
   ],
   "source": [
    "param_dist = {\n",
    "    \"objective\": \"reg:squarederror\",\n",
    "    \"n_estimators\": 1_000,\n",
    "    \"reg_lambda\": 0.1,\n",
    "    \"max_depth\": 1,\n",
    "    \"colsample_bynode\": 0.5,\n",
    "}\n",
    "model = XGBRegressor(**param_dist)\n",
    "\n",
    "# categorical_ids = [train.columns.get_loc(feature) for feature in categorical]\n",
    "# continuous_ids = [train.columns.get_loc(feature) for feature in continuous]\n",
    "categorical_ids = categorical\n",
    "continuous_ids = continuous\n",
    "\n",
    "pipe = Pipeline(\n",
    "    [\n",
    "        (\n",
    "            \"a\", ColumnTransformer(\n",
    "                [(\"rare categories encoder\", RareCategoriesImputer(), categorical_ids,)], remainder=\"passthrough\",\n",
    "            ),\n",
    "        ),\n",
    "        (\n",
    "            \"b\", ColumnTransformer(\n",
    "                    [(\n",
    "                        \"simple imputer\",\n",
    "                        Imputer(strategy=\"constant\", fill_value=\"Missing\", add_indicator=True),\n",
    "                        categorical_ids,\n",
    "                    )], remainder=\"passthrough\",\n",
    "            ),\n",
    "        ),\n",
    "        (\n",
    "            \"c\", ColumnTransformer(\n",
    "                    [(\"target encoder\", ce.TargetEncoder(), categorical_ids),], remainder=\"passthrough\",\n",
    "            ),\n",
    "        ),\n",
    "        (\n",
    "            \"d\", ColumnTransformer(\n",
    "                    [(\n",
    "                        \"continuous median imputer\",\n",
    "                        Imputer(strategy=\"median\", add_indicator=True),\n",
    "                        continuous_ids,\n",
    "                    ),], remainder=\"passthrough\",\n",
    "            ),\n",
    "        ),\n",
    "        (\n",
    "            \"e\", ColumnTransformer(\n",
    "                    [(\n",
    "                        \"continuous feature\",\n",
    "                        ContinuousFeaturesImputer(\n",
    "                            drop_features=False,\n",
    "                            create_is_0=True,\n",
    "                            impute_zeros=True,\n",
    "                            drop_outliers=True,\n",
    "                        ),\n",
    "                        continuous_ids,\n",
    "                    ),], remainder=\"passthrough\",\n",
    "            ),\n",
    "        ),\n",
    "        (\"scaler\", RobustScaler()),\n",
    "            \n",
    "        (\"model\", model),\n",
    "    ], verbose=1\n",
    ")\n",
    "pipe.fit(X_train, y_train)"
   ]
  },
  {
   "cell_type": "code",
   "execution_count": null,
   "metadata": {},
   "outputs": [],
   "source": []
  }
 ],
 "metadata": {
  "kernelspec": {
   "display_name": "dev",
   "language": "python",
   "name": "dev"
  },
  "language_info": {
   "codemirror_mode": {
    "name": "ipython",
    "version": 3
   },
   "file_extension": ".py",
   "mimetype": "text/x-python",
   "name": "python",
   "nbconvert_exporter": "python",
   "pygments_lexer": "ipython3",
   "version": "3.8.5"
  }
 },
 "nbformat": 4,
 "nbformat_minor": 4
}
